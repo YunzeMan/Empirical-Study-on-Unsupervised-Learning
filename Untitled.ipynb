{
 "cells": [
  {
   "cell_type": "code",
   "execution_count": 14,
   "metadata": {},
   "outputs": [
    {
     "name": "stdout",
     "output_type": "stream",
     "text": [
      "********************** Loading Shapenet Dataset **********************\n",
      "Dataset Mode:  train\n",
      "Dataset Length:  60000\n",
      "********************** Finished Shapenet Dataset **********************\n"
     ]
    }
   ],
   "source": [
    "import os\n",
    "import sys\n",
    "import pdb\n",
    "import glob\n",
    "sys.path.append(os.getcwd())\n",
    "\n",
    "from PIL import Image\n",
    "import os.path\n",
    "import torch\n",
    "import numpy as np\n",
    "import torchvision.transforms as transforms\n",
    "import torch.utils.data as data\n",
    "import argparse\n",
    "import time\n",
    "import random\n",
    "# import numpy.ma as ma\n",
    "from lib.utils import *\n",
    "\n",
    "input_size = 128\n",
    "\n",
    "\n",
    "transforms_shapenet = transforms.Compose([transforms.Grayscale(), transforms.Resize(128), transforms.ToTensor()])\n",
    "dataset = ShapenetDataset(\"train\", \"/hdd/zen/data/Reallite/Rendering/chair_cls1\", transforms=transforms_shapenet)"
   ]
  },
  {
   "cell_type": "code",
   "execution_count": null,
   "metadata": {},
   "outputs": [],
   "source": []
  },
  {
   "cell_type": "code",
   "execution_count": 17,
   "metadata": {},
   "outputs": [
    {
     "name": "stdout",
     "output_type": "stream",
     "text": [
      "********************** Loading Shapenet Dataset **********************\n",
      "Dataset Mode:  train\n",
      "Dataset Length:  60000\n",
      "********************** Finished Shapenet Dataset **********************\n",
      "********************** Loading Shapenet Dataset **********************\n",
      "Dataset Mode:  test\n",
      "Dataset Length:  10000\n",
      "********************** Finished Shapenet Dataset **********************\n",
      "Train Acc: 0.10546666666666667\n",
      "Test Acc: 0.1027\n",
      "---------------\n"
     ]
    }
   ],
   "source": [
    "train_data, train_label, test_data, test_label = prepare_shapenet_dataset(\"/hdd/zen/data/Reallite/Rendering/chair_cls1\")\n"
   ]
  },
  {
   "cell_type": "code",
   "execution_count": 19,
   "metadata": {},
   "outputs": [
    {
     "name": "stdout",
     "output_type": "stream",
     "text": [
      "********************** Loading Shapenet Dataset **********************\n",
      "Dataset Mode:  train\n",
      "Dataset Length:  60000\n",
      "********************** Finished Shapenet Dataset **********************\n",
      "********************** Loading Shapenet Dataset **********************\n",
      "Dataset Mode:  test\n",
      "Dataset Length:  10000\n",
      "********************** Finished Shapenet Dataset **********************\n",
      "Train Acc: 0.10686666666666667\n",
      "Test Acc: 0.0996\n",
      "---------------\n"
     ]
    }
   ],
   "source": [
    "train_data, train_label, test_data, test_label = prepare_shapenet_dataset(\"/hdd/zen/data/Reallite/Rendering/chair_cls1\")\n",
    "results = pk.load(open(\"shapenet_res.pkl\", \"rb\"))\n",
    "num_results = []\n",
    "for res, percent, n_comp in results:\n",
    "    train_data_pca, test_data_pca, gmm = res\n",
    "    train_pred = gmm.predict(train_data_pca)\n",
    "    train_final_pred, label_dict = assign_majority(train_pred, train_label)\n",
    "    train_acc = np.mean(train_final_pred == train_label)\n",
    "    print(\"Train Acc:\", train_acc)\n",
    "\n",
    "    test_pred = gmm.predict(test_data_pca)\n",
    "    test_final_pred = pred_majority(test_pred, label_dict)\n",
    "    test_acc = np.mean(test_final_pred == test_label)\n",
    "    print(\"Test Acc:\", test_acc)\n",
    "    num_results.append([percent, n_comp, test_acc, train_acc])\n",
    "    print(\"---------------\")\n",
    "    break"
   ]
  },
  {
   "cell_type": "code",
   "execution_count": null,
   "metadata": {},
   "outputs": [],
   "source": []
  }
 ],
 "metadata": {
  "kernelspec": {
   "display_name": "Python [conda env:actmix] *",
   "language": "python",
   "name": "conda-env-actmix-py"
  },
  "language_info": {
   "codemirror_mode": {
    "name": "ipython",
    "version": 3
   },
   "file_extension": ".py",
   "mimetype": "text/x-python",
   "name": "python",
   "nbconvert_exporter": "python",
   "pygments_lexer": "ipython3",
   "version": "3.6.9"
  }
 },
 "nbformat": 4,
 "nbformat_minor": 2
}
