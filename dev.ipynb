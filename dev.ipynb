{
 "nbformat": 4,
 "nbformat_minor": 2,
 "metadata": {
  "language_info": {
   "name": "python",
   "codemirror_mode": {
    "name": "ipython",
    "version": 3
   },
   "version": "3.6.9-final"
  },
  "orig_nbformat": 2,
  "file_extension": ".py",
  "mimetype": "text/x-python",
  "name": "python",
  "npconvert_exporter": "python",
  "pygments_lexer": "ipython3",
  "version": 3,
  "kernelspec": {
   "name": "python36964bitc22015f3634c4f5d97a4e8c5287e65f7",
   "display_name": "Python 3.6.9 64-bit"
  }
 },
 "cells": [
  {
   "cell_type": "code",
   "execution_count": null,
   "metadata": {},
   "outputs": [],
   "source": [
    "\n"
   ]
  },
  {
   "cell_type": "code",
   "execution_count": 9,
   "metadata": {},
   "outputs": [
    {
     "output_type": "stream",
     "name": "stdout",
     "text": "************************ Loading mnist ************************\nn_digits: 10\nn_samples: 60000\n************************ Finished mnist ************************\n(60000, 11)\n"
    }
   ],
   "source": [
    "train_data, train_label, test_data, test_label =  prepare_mnist_dataset()\n",
    "pca = PCA(0.5, whiten=True)\n",
    "train_data_pca = pca.fit_transform(train_data)\n",
    "print(train_data_pca.shape)\n",
    ""
   ]
  },
  {
   "cell_type": "markdown",
   "metadata": {},
   "source": []
  },
  {
   "cell_type": "markdown",
   "metadata": {},
   "source": [
    "### Fitting Full GMM"
   ]
  },
  {
   "cell_type": "code",
   "execution_count": 4,
   "metadata": {},
   "outputs": [
    {
     "output_type": "stream",
     "name": "stdout",
     "text": "Fitting GMM\n(60000, 784)\n"
    },
    {
     "output_type": "execute_result",
     "data": {
      "text/plain": "GaussianMixture(covariance_type='full', init_params='kmeans', max_iter=100,\n                means_init=None, n_components=40, n_init=1,\n                precisions_init=None, random_state=None, reg_covar=1e-06,\n                tol=0.001, verbose=0, verbose_interval=10, warm_start=False,\n                weights_init=None)"
     },
     "metadata": {},
     "execution_count": 4
    }
   ],
   "source": [
    "print(\"Fitting GMM\")\n",
    "print(train_data.shape)\n",
    "g = mixture.GaussianMixture(n_components=40, covariance_type='full')\n",
    "g.fit(train_data_pca) \n",
    ""
   ]
  },
  {
   "cell_type": "code",
   "execution_count": 110,
   "metadata": {},
   "outputs": [
    {
     "name": "stdout",
     "output_type": "stream",
     "text": "Fitting GMM\n(60000, 784)\ntrain: 0.77915\nTest: 0.7967\n28.329127073287964\n"
    }
   ],
   "source": [
    "import time \n",
    "t_s = time.time()\n",
    "print(\"Fitting GMM\")\n",
    "print(train_data.shape)\n",
    "g = mixture.GaussianMixture(n_components=80, covariance_type='diag')\n",
    "g.fit(data) \n",
    "\n",
    "train_pred = g.fit_predict(data)\n",
    "final_pred = assign_majority(train_pred, train_label)\n",
    "print(\"train:\", np.mean(final_pred == train_label))\n",
    "test_data_pca = pca.fit_transform(test_data)\n",
    "test_pred = g.fit_predict(test_data_pca)\n",
    "final_pred = assign_majority(test_pred, test_label)\n",
    "print(\"Test:\", np.mean(final_pred == test_label))\n",
    "dt = time.time() - t_s\n",
    "print(dt)"
   ]
  },
  {
   "cell_type": "code",
   "execution_count": 100,
   "metadata": {},
   "outputs": [
    {
     "name": "stdout",
     "output_type": "stream",
     "text": "train: 0.7410333333333333\nTest: 0.7565\n"
    }
   ],
   "source": [
    "final_pred = assign_majority(train_pred, train_label)\n",
    "print(\"train:\", np.mean(final_pred == train_label))\n",
    "test_data_pca = pca.fit_transform(test_data)\n",
    "test_pred = g.fit_predict(test_data_pca)\n",
    "final_pred = assign_majority(test_pred, test_label)\n",
    "print(\"Test:\", np.mean(final_pred == test_label))"
   ]
  },
  {
   "cell_type": "code",
   "execution_count": 95,
   "metadata": {},
   "outputs": [],
   "source": [
    "test_data_pca = pca.fit_transform(test_data)"
   ]
  },
  {
   "cell_type": "code",
   "execution_count": null,
   "metadata": {},
   "outputs": [],
   "source": []
  },
  {
   "cell_type": "code",
   "execution_count": 97,
   "metadata": {},
   "outputs": [
    {
     "data": {
      "text/plain": "0.7522"
     },
     "execution_count": 97,
     "metadata": {},
     "output_type": "execute_result"
    }
   ],
   "source": []
  },
  {
   "cell_type": "code",
   "execution_count": null,
   "metadata": {},
   "outputs": [],
   "source": []
  },
  {
   "cell_type": "code",
   "execution_count": 7,
   "metadata": {
    "tags": [
     "outputPrepend",
     "outputPrepend",
     "outputPrepend",
     "outputPrepend",
     "outputPrepend",
     "outputPrepend",
     "outputPrepend",
     "outputPrepend",
     "outputPrepend",
     "outputPrepend",
     "outputPrepend",
     "outputPrepend",
     "outputPrepend",
     "outputPrepend",
     "outputPrepend",
     "outputPrepend",
     "outputPrepend",
     "outputPrepend",
     "outputPrepend",
     "outputPrepend",
     "outputPrepend",
     "outputPrepend",
     "outputPrepend",
     "outputPrepend",
     "outputPrepend",
     "outputPrepend",
     "outputPrepend",
     "outputPrepend",
     "outputPrepend",
     "outputPrepend",
     "outputPrepend",
     "outputPrepend",
     "outputPrepend",
     "outputPrepend",
     "outputPrepend",
     "outputPrepend",
     "outputPrepend",
     "outputPrepend",
     "outputPrepend",
     "outputPrepend",
     "outputPrepend",
     "outputPrepend",
     "outputPrepend",
     "outputPrepend",
     "outputPrepend",
     "outputPrepend",
     "outputPrepend",
     "outputPrepend",
     "outputPrepend",
     "outputPrepend",
     "outputPrepend",
     "outputPrepend",
     "outputPrepend",
     "outputPrepend",
     "outputPrepend",
     "outputPrepend",
     "outputPrepend",
     "outputPrepend",
     "outputPrepend",
     "outputPrepend",
     "outputPrepend",
     "outputPrepend",
     "outputPrepend",
     "outputPrepend",
     "outputPrepend",
     "outputPrepend",
     "outputPrepend",
     "outputPrepend",
     "outputPrepend",
     "outputPrepend",
     "outputPrepend",
     "outputPrepend",
     "outputPrepend",
     "outputPrepend",
     "outputPrepend",
     "outputPrepend",
     "outputPrepend",
     "outputPrepend",
     "outputPrepend",
     "outputPrepend",
     "outputPrepend",
     "outputPrepend"
    ]
   },
   "outputs": [
    {
     "output_type": "stream",
     "name": "stdout",
     "text": "'diag', init_params='kmeans', max_iter=100,\n                means_init=None, n_components=910, n_init=1,\n                precisions_init=None, random_state=0, reg_covar=1e-06,\n                tol=0.001, verbose=0, verbose_interval=10, warm_start=False,\n                weights_init=None)\nFitting for model: GaussianMixture(covariance_type='diag', init_params='kmeans', max_iter=100,\n                means_init=None, n_components=920, n_init=1,\n                precisions_init=None, random_state=0, reg_covar=1e-06,\n                tol=0.001, verbose=0, verbose_interval=10, warm_start=False,\n                weights_init=None)\nFitting for model: GaussianMixture(covariance_type='diag', init_params='kmeans', max_iter=100,\n                means_init=None, n_components=930, n_init=1,\n                precisions_init=None, random_state=0, reg_covar=1e-06,\n                tol=0.001, verbose=0, verbose_interval=10, warm_start=False,\n                weights_init=None)\nFitting for model: GaussianMixture(covariance_type='diag', init_params='kmeans', max_iter=100,\n                means_init=None, n_components=940, n_init=1,\n                precisions_init=None, random_state=0, reg_covar=1e-06,\n                tol=0.001, verbose=0, verbose_interval=10, warm_start=False,\n                weights_init=None)\nFitting for model: GaussianMixture(covariance_type='diag', init_params='kmeans', max_iter=100,\n                means_init=None, n_components=950, n_init=1,\n                precisions_init=None, random_state=0, reg_covar=1e-06,\n                tol=0.001, verbose=0, verbose_interval=10, warm_start=False,\n                weights_init=None)\nFitting for model: GaussianMixture(covariance_type='diag', init_params='kmeans', max_iter=100,\n                means_init=None, n_components=960, n_init=1,\n                precisions_init=None, random_state=0, reg_covar=1e-06,\n                tol=0.001, verbose=0, verbose_interval=10, warm_start=False,\n                weights_init=None)\nFitting for model: GaussianMixture(covariance_type='diag', init_params='kmeans', max_iter=100,\n                means_init=None, n_components=970, n_init=1,\n                precisions_init=None, random_state=0, reg_covar=1e-06,\n                tol=0.001, verbose=0, verbose_interval=10, warm_start=False,\n                weights_init=None)\nFitting for model: GaussianMixture(covariance_type='diag', init_params='kmeans', max_iter=100,\n                means_init=None, n_components=980, n_init=1,\n                precisions_init=None, random_state=0, reg_covar=1e-06,\n                tol=0.001, verbose=0, verbose_interval=10, warm_start=False,\n                weights_init=None)\nFitting for model: GaussianMixture(covariance_type='diag', init_params='kmeans', max_iter=100,\n                means_init=None, n_components=990, n_init=1,\n                precisions_init=None, random_state=0, reg_covar=1e-06,\n                tol=0.001, verbose=0, verbose_interval=10, warm_start=False,\n                weights_init=None)\nFitting for model: GaussianMixture(covariance_type='diag', init_params='kmeans', max_iter=100,\n                means_init=None, n_components=1000, n_init=1,\n                precisions_init=None, random_state=0, reg_covar=1e-06,\n                tol=0.001, verbose=0, verbose_interval=10, warm_start=False,\n                weights_init=None)\nFitting for model: GaussianMixture(covariance_type='diag', init_params='kmeans', max_iter=100,\n                means_init=None, n_components=1010, n_init=1,\n                precisions_init=None, random_state=0, reg_covar=1e-06,\n                tol=0.001, verbose=0, verbose_interval=10, warm_start=False,\n                weights_init=None)\nFitting for model: GaussianMixture(covariance_type='diag', init_params='kmeans', max_iter=100,\n                means_init=None, n_components=1020, n_init=1,\n                precisions_init=None, random_state=0, reg_covar=1e-06,\n                tol=0.001, verbose=0, verbose_interval=10, warm_start=False,\n                weights_init=None)\nFitting for model: GaussianMixture(covariance_type='diag', init_params='kmeans', max_iter=100,\n                means_init=None, n_components=1030, n_init=1,\n                precisions_init=None, random_state=0, reg_covar=1e-06,\n                tol=0.001, verbose=0, verbose_interval=10, warm_start=False,\n                weights_init=None)\nFitting for model: GaussianMixture(covariance_type='diag', init_params='kmeans', max_iter=100,\n                means_init=None, n_components=1040, n_init=1,\n                precisions_init=None, random_state=0, reg_covar=1e-06,\n                tol=0.001, verbose=0, verbose_interval=10, warm_start=False,\n                weights_init=None)\nFitting for model: GaussianMixture(covariance_type='diag', init_params='kmeans', max_iter=100,\n                means_init=None, n_components=1050, n_init=1,\n                precisions_init=None, random_state=0, reg_covar=1e-06,\n                tol=0.001, verbose=0, verbose_interval=10, warm_start=False,\n                weights_init=None)\nFitting for model: GaussianMixture(covariance_type='diag', init_params='kmeans', max_iter=100,\n                means_init=None, n_components=1060, n_init=1,\n                precisions_init=None, random_state=0, reg_covar=1e-06,\n                tol=0.001, verbose=0, verbose_interval=10, warm_start=False,\n                weights_init=None)\nFitting for model: GaussianMixture(covariance_type='diag', init_params='kmeans', max_iter=100,\n                means_init=None, n_components=1070, n_init=1,\n                precisions_init=None, random_state=0, reg_covar=1e-06,\n                tol=0.001, verbose=0, verbose_interval=10, warm_start=False,\n                weights_init=None)\nFitting for model: GaussianMixture(covariance_type='diag', init_params='kmeans', max_iter=100,\n                means_init=None, n_components=1080, n_init=1,\n                precisions_init=None, random_state=0, reg_covar=1e-06,\n                tol=0.001, verbose=0, verbose_interval=10, warm_start=False,\n                weights_init=None)\nFitting for model: GaussianMixture(covariance_type='diag', init_params='kmeans', max_iter=100,\n                means_init=None, n_components=1090, n_init=1,\n                precisions_init=None, random_state=0, reg_covar=1e-06,\n                tol=0.001, verbose=0, verbose_interval=10, warm_start=False,\n                weights_init=None)\nFitting for model: GaussianMixture(covariance_type='diag', init_params='kmeans', max_iter=100,\n                means_init=None, n_components=1100, n_init=1,\n                precisions_init=None, random_state=0, reg_covar=1e-06,\n                tol=0.001, verbose=0, verbose_interval=10, warm_start=False,\n                weights_init=None)\nFitting for model: GaussianMixture(covariance_type='diag', init_params='kmeans', max_iter=100,\n                means_init=None, n_components=1110, n_init=1,\n                precisions_init=None, random_state=0, reg_covar=1e-06,\n                tol=0.001, verbose=0, verbose_interval=10, warm_start=False,\n                weights_init=None)\nFitting for model: GaussianMixture(covariance_type='diag', init_params='kmeans', max_iter=100,\n                means_init=None, n_components=1120, n_init=1,\n                precisions_init=None, random_state=0, reg_covar=1e-06,\n                tol=0.001, verbose=0, verbose_interval=10, warm_start=False,\n                weights_init=None)\nFitting for model: GaussianMixture(covariance_type='diag', init_params='kmeans', max_iter=100,\n                means_init=None, n_components=1130, n_init=1,\n                precisions_init=None, random_state=0, reg_covar=1e-06,\n                tol=0.001, verbose=0, verbose_interval=10, warm_start=False,\n                weights_init=None)\nFitting for model: GaussianMixture(covariance_type='diag', init_params='kmeans', max_iter=100,\n                means_init=None, n_components=1140, n_init=1,\n                precisions_init=None, random_state=0, reg_covar=1e-06,\n                tol=0.001, verbose=0, verbose_interval=10, warm_start=False,\n                weights_init=None)\nFitting for model: GaussianMixture(covariance_type='diag', init_params='kmeans', max_iter=100,\n                means_init=None, n_components=1150, n_init=1,\n                precisions_init=None, random_state=0, reg_covar=1e-06,\n                tol=0.001, verbose=0, verbose_interval=10, warm_start=False,\n                weights_init=None)\nFitting for model: GaussianMixture(covariance_type='diag', init_params='kmeans', max_iter=100,\n                means_init=None, n_components=1160, n_init=1,\n                precisions_init=None, random_state=0, reg_covar=1e-06,\n                tol=0.001, verbose=0, verbose_interval=10, warm_start=False,\n                weights_init=None)\nFitting for model: GaussianMixture(covariance_type='diag', init_params='kmeans', max_iter=100,\n                means_init=None, n_components=1170, n_init=1,\n                precisions_init=None, random_state=0, reg_covar=1e-06,\n                tol=0.001, verbose=0, verbose_interval=10, warm_start=False,\n                weights_init=None)\nFitting for model: GaussianMixture(covariance_type='diag', init_params='kmeans', max_iter=100,\n                means_init=None, n_components=1180, n_init=1,\n                precisions_init=None, random_state=0, reg_covar=1e-06,\n                tol=0.001, verbose=0, verbose_interval=10, warm_start=False,\n                weights_init=None)\nFitting for model: GaussianMixture(covariance_type='diag', init_params='kmeans', max_iter=100,\n                means_init=None, n_components=1190, n_init=1,\n                precisions_init=None, random_state=0, reg_covar=1e-06,\n                tol=0.001, verbose=0, verbose_interval=10, warm_start=False,\n                weights_init=None)\nFitting for model: GaussianMixture(covariance_type='diag', init_params='kmeans', max_iter=100,\n                means_init=None, n_components=1200, n_init=1,\n                precisions_init=None, random_state=0, reg_covar=1e-06,\n                tol=0.001, verbose=0, verbose_interval=10, warm_start=False,\n                weights_init=None)\nFitting for model: GaussianMixture(covariance_type='diag', init_params='kmeans', max_iter=100,\n                means_init=None, n_components=1210, n_init=1,\n                precisions_init=None, random_state=0, reg_covar=1e-06,\n                tol=0.001, verbose=0, verbose_interval=10, warm_start=False,\n                weights_init=None)\nFitting for model: GaussianMixture(covariance_type='diag', init_params='kmeans', max_iter=100,\n                means_init=None, n_components=1220, n_init=1,\n                precisions_init=None, random_state=0, reg_covar=1e-06,\n                tol=0.001, verbose=0, verbose_interval=10, warm_start=False,\n                weights_init=None)\nFitting for model: GaussianMixture(covariance_type='diag', init_params='kmeans', max_iter=100,\n                means_init=None, n_components=1230, n_init=1,\n                precisions_init=None, random_state=0, reg_covar=1e-06,\n                tol=0.001, verbose=0, verbose_interval=10, warm_start=False,\n                weights_init=None)\nFitting for model: GaussianMixture(covariance_type='diag', init_params='kmeans', max_iter=100,\n                means_init=None, n_components=1240, n_init=1,\n                precisions_init=None, random_state=0, reg_covar=1e-06,\n                tol=0.001, verbose=0, verbose_interval=10, warm_start=False,\n                weights_init=None)\nFitting for model: GaussianMixture(covariance_type='diag', init_params='kmeans', max_iter=100,\n                means_init=None, n_components=1250, n_init=1,\n                precisions_init=None, random_state=0, reg_covar=1e-06,\n                tol=0.001, verbose=0, verbose_interval=10, warm_start=False,\n                weights_init=None)\nFitting for model: GaussianMixture(covariance_type='diag', init_params='kmeans', max_iter=100,\n                means_init=None, n_components=1260, n_init=1,\n                precisions_init=None, random_state=0, reg_covar=1e-06,\n                tol=0.001, verbose=0, verbose_interval=10, warm_start=False,\n                weights_init=None)\nFitting for model: GaussianMixture(covariance_type='diag', init_params='kmeans', max_iter=100,\n                means_init=None, n_components=1270, n_init=1,\n                precisions_init=None, random_state=0, reg_covar=1e-06,\n                tol=0.001, verbose=0, verbose_interval=10, warm_start=False,\n                weights_init=None)\nFitting for model: GaussianMixture(covariance_type='diag', init_params='kmeans', max_iter=100,\n                means_init=None, n_components=1280, n_init=1,\n                precisions_init=None, random_state=0, reg_covar=1e-06,\n                tol=0.001, verbose=0, verbose_interval=10, warm_start=False,\n                weights_init=None)\nFitting for model: GaussianMixture(covariance_type='diag', init_params='kmeans', max_iter=100,\n                means_init=None, n_components=1290, n_init=1,\n                precisions_init=None, random_state=0, reg_covar=1e-06,\n                tol=0.001, verbose=0, verbose_interval=10, warm_start=False,\n                weights_init=None)\nFitting for model: GaussianMixture(covariance_type='diag', init_params='kmeans', max_iter=100,\n                means_init=None, n_components=1300, n_init=1,\n                precisions_init=None, random_state=0, reg_covar=1e-06,\n                tol=0.001, verbose=0, verbose_interval=10, warm_start=False,\n                weights_init=None)\nFitting for model: GaussianMixture(covariance_type='diag', init_params='kmeans', max_iter=100,\n                means_init=None, n_components=1310, n_init=1,\n                precisions_init=None, random_state=0, reg_covar=1e-06,\n                tol=0.001, verbose=0, verbose_interval=10, warm_start=False,\n                weights_init=None)\nFitting for model: GaussianMixture(covariance_type='diag', init_params='kmeans', max_iter=100,\n                means_init=None, n_components=1320, n_init=1,\n                precisions_init=None, random_state=0, reg_covar=1e-06,\n                tol=0.001, verbose=0, verbose_interval=10, warm_start=False,\n                weights_init=None)\nFitting for model: GaussianMixture(covariance_type='diag', init_params='kmeans', max_iter=100,\n                means_init=None, n_components=1330, n_init=1,\n                precisions_init=None, random_state=0, reg_covar=1e-06,\n                tol=0.001, verbose=0, verbose_interval=10, warm_start=False,\n                weights_init=None)\nFitting for model: GaussianMixture(covariance_type='diag', init_params='kmeans', max_iter=100,\n                means_init=None, n_components=1340, n_init=1,\n                precisions_init=None, random_state=0, reg_covar=1e-06,\n                tol=0.001, verbose=0, verbose_interval=10, warm_start=False,\n                weights_init=None)\nFitting for model: GaussianMixture(covariance_type='diag', init_params='kmeans', max_iter=100,\n                means_init=None, n_components=1350, n_init=1,\n                precisions_init=None, random_state=0, reg_covar=1e-06,\n                tol=0.001, verbose=0, verbose_interval=10, warm_start=False,\n                weights_init=None)\nFitting for model: GaussianMixture(covariance_type='diag', init_params='kmeans', max_iter=100,\n                means_init=None, n_components=1360, n_init=1,\n                precisions_init=None, random_state=0, reg_covar=1e-06,\n                tol=0.001, verbose=0, verbose_interval=10, warm_start=False,\n                weights_init=None)\nFitting for model: GaussianMixture(covariance_type='diag', init_params='kmeans', max_iter=100,\n                means_init=None, n_components=1370, n_init=1,\n                precisions_init=None, random_state=0, reg_covar=1e-06,\n                tol=0.001, verbose=0, verbose_interval=10, warm_start=False,\n                weights_init=None)\nFitting for model: GaussianMixture(covariance_type='diag', init_params='kmeans', max_iter=100,\n                means_init=None, n_components=1380, n_init=1,\n                precisions_init=None, random_state=0, reg_covar=1e-06,\n                tol=0.001, verbose=0, verbose_interval=10, warm_start=False,\n                weights_init=None)\nFitting for model: GaussianMixture(covariance_type='diag', init_params='kmeans', max_iter=100,\n                means_init=None, n_components=1390, n_init=1,\n                precisions_init=None, random_state=0, reg_covar=1e-06,\n                tol=0.001, verbose=0, verbose_interval=10, warm_start=False,\n                weights_init=None)\nFitting for model: GaussianMixture(covariance_type='diag', init_params='kmeans', max_iter=100,\n                means_init=None, n_components=1400, n_init=1,\n                precisions_init=None, random_state=0, reg_covar=1e-06,\n                tol=0.001, verbose=0, verbose_interval=10, warm_start=False,\n                weights_init=None)\nFitting for model: GaussianMixture(covariance_type='diag', init_params='kmeans', max_iter=100,\n                means_init=None, n_components=1410, n_init=1,\n                precisions_init=None, random_state=0, reg_covar=1e-06,\n                tol=0.001, verbose=0, verbose_interval=10, warm_start=False,\n                weights_init=None)\nFitting for model: GaussianMixture(covariance_type='diag', init_params='kmeans', max_iter=100,\n                means_init=None, n_components=1420, n_init=1,\n                precisions_init=None, random_state=0, reg_covar=1e-06,\n                tol=0.001, verbose=0, verbose_interval=10, warm_start=False,\n                weights_init=None)\nFitting for model: GaussianMixture(covariance_type='diag', init_params='kmeans', max_iter=100,\n                means_init=None, n_components=1430, n_init=1,\n                precisions_init=None, random_state=0, reg_covar=1e-06,\n                tol=0.001, verbose=0, verbose_interval=10, warm_start=False,\n                weights_init=None)\nFitting for model: GaussianMixture(covariance_type='diag', init_params='kmeans', max_iter=100,\n                means_init=None, n_components=1440, n_init=1,\n                precisions_init=None, random_state=0, reg_covar=1e-06,\n                tol=0.001, verbose=0, verbose_interval=10, warm_start=False,\n                weights_init=None)\nFitting for model: GaussianMixture(covariance_type='diag', init_params='kmeans', max_iter=100,\n                means_init=None, n_components=1450, n_init=1,\n                precisions_init=None, random_state=0, reg_covar=1e-06,\n                tol=0.001, verbose=0, verbose_interval=10, warm_start=False,\n                weights_init=None)\nFitting for model: GaussianMixture(covariance_type='diag', init_params='kmeans', max_iter=100,\n                means_init=None, n_components=1460, n_init=1,\n                precisions_init=None, random_state=0, reg_covar=1e-06,\n                tol=0.001, verbose=0, verbose_interval=10, warm_start=False,\n                weights_init=None)\nFitting for model: GaussianMixture(covariance_type='diag', init_params='kmeans', max_iter=100,\n                means_init=None, n_components=1470, n_init=1,\n                precisions_init=None, random_state=0, reg_covar=1e-06,\n                tol=0.001, verbose=0, verbose_interval=10, warm_start=False,\n                weights_init=None)\nFitting for model: GaussianMixture(covariance_type='diag', init_params='kmeans', max_iter=100,\n                means_init=None, n_components=1480, n_init=1,\n                precisions_init=None, random_state=0, reg_covar=1e-06,\n                tol=0.001, verbose=0, verbose_interval=10, warm_start=False,\n                weights_init=None)\nFitting for model: GaussianMixture(covariance_type='diag', init_params='kmeans', max_iter=100,\n                means_init=None, n_components=1490, n_init=1,\n                precisions_init=None, random_state=0, reg_covar=1e-06,\n                tol=0.001, verbose=0, verbose_interval=10, warm_start=False,\n                weights_init=None)\n"
    },
    {
     "output_type": "execute_result",
     "data": {
      "text/plain": "[<matplotlib.lines.Line2D at 0x7fe621c130f0>]"
     },
     "metadata": {},
     "execution_count": 7
    },
    {
     "output_type": "display_data",
     "data": {
      "text/plain": "<Figure size 432x288 with 1 Axes>",
      "image/svg+xml": "<?xml version=\"1.0\" encoding=\"utf-8\" standalone=\"no\"?>\n<!DOCTYPE svg PUBLIC \"-//W3C//DTD SVG 1.1//EN\"\n  \"http://www.w3.org/Graphics/SVG/1.1/DTD/svg11.dtd\">\n<!-- Created with matplotlib (https://matplotlib.org/) -->\n<svg height=\"248.518125pt\" version=\"1.1\" viewBox=\"0 0 400.7375 248.518125\" width=\"400.7375pt\" xmlns=\"http://www.w3.org/2000/svg\" xmlns:xlink=\"http://www.w3.org/1999/xlink\">\n <defs>\n  <style type=\"text/css\">\n*{stroke-linecap:butt;stroke-linejoin:round;}\n  </style>\n </defs>\n <g id=\"figure_1\">\n  <g id=\"patch_1\">\n   <path d=\"M 0 248.518125 \nL 400.7375 248.518125 \nL 400.7375 0 \nL 0 0 \nz\n\" style=\"fill:none;\"/>\n  </g>\n  <g id=\"axes_1\">\n   <g id=\"patch_2\">\n    <path d=\"M 58.7375 224.64 \nL 393.5375 224.64 \nL 393.5375 7.2 \nL 58.7375 7.2 \nz\n\" style=\"fill:#ffffff;\"/>\n   </g>\n   <g id=\"matplotlib.axis_1\">\n    <g id=\"xtick_1\">\n     <g id=\"line2d_1\">\n      <defs>\n       <path d=\"M 0 0 \nL 0 3.5 \n\" id=\"m77679cad79\" style=\"stroke:#000000;stroke-width:0.8;\"/>\n      </defs>\n      <g>\n       <use style=\"stroke:#000000;stroke-width:0.8;\" x=\"95.852346\" xlink:href=\"#m77679cad79\" y=\"224.64\"/>\n      </g>\n     </g>\n     <g id=\"text_1\">\n      <!-- 200 -->\n      <defs>\n       <path d=\"M 19.1875 8.296875 \nL 53.609375 8.296875 \nL 53.609375 0 \nL 7.328125 0 \nL 7.328125 8.296875 \nQ 12.9375 14.109375 22.625 23.890625 \nQ 32.328125 33.6875 34.8125 36.53125 \nQ 39.546875 41.84375 41.421875 45.53125 \nQ 43.3125 49.21875 43.3125 52.78125 \nQ 43.3125 58.59375 39.234375 62.25 \nQ 35.15625 65.921875 28.609375 65.921875 \nQ 23.96875 65.921875 18.8125 64.3125 \nQ 13.671875 62.703125 7.8125 59.421875 \nL 7.8125 69.390625 \nQ 13.765625 71.78125 18.9375 73 \nQ 24.125 74.21875 28.421875 74.21875 \nQ 39.75 74.21875 46.484375 68.546875 \nQ 53.21875 62.890625 53.21875 53.421875 \nQ 53.21875 48.921875 51.53125 44.890625 \nQ 49.859375 40.875 45.40625 35.40625 \nQ 44.1875 33.984375 37.640625 27.21875 \nQ 31.109375 20.453125 19.1875 8.296875 \nz\n\" id=\"DejaVuSans-50\"/>\n       <path d=\"M 31.78125 66.40625 \nQ 24.171875 66.40625 20.328125 58.90625 \nQ 16.5 51.421875 16.5 36.375 \nQ 16.5 21.390625 20.328125 13.890625 \nQ 24.171875 6.390625 31.78125 6.390625 \nQ 39.453125 6.390625 43.28125 13.890625 \nQ 47.125 21.390625 47.125 36.375 \nQ 47.125 51.421875 43.28125 58.90625 \nQ 39.453125 66.40625 31.78125 66.40625 \nz\nM 31.78125 74.21875 \nQ 44.046875 74.21875 50.515625 64.515625 \nQ 56.984375 54.828125 56.984375 36.375 \nQ 56.984375 17.96875 50.515625 8.265625 \nQ 44.046875 -1.421875 31.78125 -1.421875 \nQ 19.53125 -1.421875 13.0625 8.265625 \nQ 6.59375 17.96875 6.59375 36.375 \nQ 6.59375 54.828125 13.0625 64.515625 \nQ 19.53125 74.21875 31.78125 74.21875 \nz\n\" id=\"DejaVuSans-48\"/>\n      </defs>\n      <g transform=\"translate(86.308596 239.238438)scale(0.1 -0.1)\">\n       <use xlink:href=\"#DejaVuSans-50\"/>\n       <use x=\"63.623047\" xlink:href=\"#DejaVuSans-48\"/>\n       <use x=\"127.246094\" xlink:href=\"#DejaVuSans-48\"/>\n      </g>\n     </g>\n    </g>\n    <g id=\"xtick_2\">\n     <g id=\"line2d_2\">\n      <g>\n       <use style=\"stroke:#000000;stroke-width:0.8;\" x=\"139.645675\" xlink:href=\"#m77679cad79\" y=\"224.64\"/>\n      </g>\n     </g>\n     <g id=\"text_2\">\n      <!-- 400 -->\n      <defs>\n       <path d=\"M 37.796875 64.3125 \nL 12.890625 25.390625 \nL 37.796875 25.390625 \nz\nM 35.203125 72.90625 \nL 47.609375 72.90625 \nL 47.609375 25.390625 \nL 58.015625 25.390625 \nL 58.015625 17.1875 \nL 47.609375 17.1875 \nL 47.609375 0 \nL 37.796875 0 \nL 37.796875 17.1875 \nL 4.890625 17.1875 \nL 4.890625 26.703125 \nz\n\" id=\"DejaVuSans-52\"/>\n      </defs>\n      <g transform=\"translate(130.101925 239.238438)scale(0.1 -0.1)\">\n       <use xlink:href=\"#DejaVuSans-52\"/>\n       <use x=\"63.623047\" xlink:href=\"#DejaVuSans-48\"/>\n       <use x=\"127.246094\" xlink:href=\"#DejaVuSans-48\"/>\n      </g>\n     </g>\n    </g>\n    <g id=\"xtick_3\">\n     <g id=\"line2d_3\">\n      <g>\n       <use style=\"stroke:#000000;stroke-width:0.8;\" x=\"183.439004\" xlink:href=\"#m77679cad79\" y=\"224.64\"/>\n      </g>\n     </g>\n     <g id=\"text_3\">\n      <!-- 600 -->\n      <defs>\n       <path d=\"M 33.015625 40.375 \nQ 26.375 40.375 22.484375 35.828125 \nQ 18.609375 31.296875 18.609375 23.390625 \nQ 18.609375 15.53125 22.484375 10.953125 \nQ 26.375 6.390625 33.015625 6.390625 \nQ 39.65625 6.390625 43.53125 10.953125 \nQ 47.40625 15.53125 47.40625 23.390625 \nQ 47.40625 31.296875 43.53125 35.828125 \nQ 39.65625 40.375 33.015625 40.375 \nz\nM 52.59375 71.296875 \nL 52.59375 62.3125 \nQ 48.875 64.0625 45.09375 64.984375 \nQ 41.3125 65.921875 37.59375 65.921875 \nQ 27.828125 65.921875 22.671875 59.328125 \nQ 17.53125 52.734375 16.796875 39.40625 \nQ 19.671875 43.65625 24.015625 45.921875 \nQ 28.375 48.1875 33.59375 48.1875 \nQ 44.578125 48.1875 50.953125 41.515625 \nQ 57.328125 34.859375 57.328125 23.390625 \nQ 57.328125 12.15625 50.6875 5.359375 \nQ 44.046875 -1.421875 33.015625 -1.421875 \nQ 20.359375 -1.421875 13.671875 8.265625 \nQ 6.984375 17.96875 6.984375 36.375 \nQ 6.984375 53.65625 15.1875 63.9375 \nQ 23.390625 74.21875 37.203125 74.21875 \nQ 40.921875 74.21875 44.703125 73.484375 \nQ 48.484375 72.75 52.59375 71.296875 \nz\n\" id=\"DejaVuSans-54\"/>\n      </defs>\n      <g transform=\"translate(173.895254 239.238438)scale(0.1 -0.1)\">\n       <use xlink:href=\"#DejaVuSans-54\"/>\n       <use x=\"63.623047\" xlink:href=\"#DejaVuSans-48\"/>\n       <use x=\"127.246094\" xlink:href=\"#DejaVuSans-48\"/>\n      </g>\n     </g>\n    </g>\n    <g id=\"xtick_4\">\n     <g id=\"line2d_4\">\n      <g>\n       <use style=\"stroke:#000000;stroke-width:0.8;\" x=\"227.232333\" xlink:href=\"#m77679cad79\" y=\"224.64\"/>\n      </g>\n     </g>\n     <g id=\"text_4\">\n      <!-- 800 -->\n      <defs>\n       <path d=\"M 31.78125 34.625 \nQ 24.75 34.625 20.71875 30.859375 \nQ 16.703125 27.09375 16.703125 20.515625 \nQ 16.703125 13.921875 20.71875 10.15625 \nQ 24.75 6.390625 31.78125 6.390625 \nQ 38.8125 6.390625 42.859375 10.171875 \nQ 46.921875 13.96875 46.921875 20.515625 \nQ 46.921875 27.09375 42.890625 30.859375 \nQ 38.875 34.625 31.78125 34.625 \nz\nM 21.921875 38.8125 \nQ 15.578125 40.375 12.03125 44.71875 \nQ 8.5 49.078125 8.5 55.328125 \nQ 8.5 64.0625 14.71875 69.140625 \nQ 20.953125 74.21875 31.78125 74.21875 \nQ 42.671875 74.21875 48.875 69.140625 \nQ 55.078125 64.0625 55.078125 55.328125 \nQ 55.078125 49.078125 51.53125 44.71875 \nQ 48 40.375 41.703125 38.8125 \nQ 48.828125 37.15625 52.796875 32.3125 \nQ 56.78125 27.484375 56.78125 20.515625 \nQ 56.78125 9.90625 50.3125 4.234375 \nQ 43.84375 -1.421875 31.78125 -1.421875 \nQ 19.734375 -1.421875 13.25 4.234375 \nQ 6.78125 9.90625 6.78125 20.515625 \nQ 6.78125 27.484375 10.78125 32.3125 \nQ 14.796875 37.15625 21.921875 38.8125 \nz\nM 18.3125 54.390625 \nQ 18.3125 48.734375 21.84375 45.5625 \nQ 25.390625 42.390625 31.78125 42.390625 \nQ 38.140625 42.390625 41.71875 45.5625 \nQ 45.3125 48.734375 45.3125 54.390625 \nQ 45.3125 60.0625 41.71875 63.234375 \nQ 38.140625 66.40625 31.78125 66.40625 \nQ 25.390625 66.40625 21.84375 63.234375 \nQ 18.3125 60.0625 18.3125 54.390625 \nz\n\" id=\"DejaVuSans-56\"/>\n      </defs>\n      <g transform=\"translate(217.688583 239.238438)scale(0.1 -0.1)\">\n       <use xlink:href=\"#DejaVuSans-56\"/>\n       <use x=\"63.623047\" xlink:href=\"#DejaVuSans-48\"/>\n       <use x=\"127.246094\" xlink:href=\"#DejaVuSans-48\"/>\n      </g>\n     </g>\n    </g>\n    <g id=\"xtick_5\">\n     <g id=\"line2d_5\">\n      <g>\n       <use style=\"stroke:#000000;stroke-width:0.8;\" x=\"271.025662\" xlink:href=\"#m77679cad79\" y=\"224.64\"/>\n      </g>\n     </g>\n     <g id=\"text_5\">\n      <!-- 1000 -->\n      <defs>\n       <path d=\"M 12.40625 8.296875 \nL 28.515625 8.296875 \nL 28.515625 63.921875 \nL 10.984375 60.40625 \nL 10.984375 69.390625 \nL 28.421875 72.90625 \nL 38.28125 72.90625 \nL 38.28125 8.296875 \nL 54.390625 8.296875 \nL 54.390625 0 \nL 12.40625 0 \nz\n\" id=\"DejaVuSans-49\"/>\n      </defs>\n      <g transform=\"translate(258.300662 239.238438)scale(0.1 -0.1)\">\n       <use xlink:href=\"#DejaVuSans-49\"/>\n       <use x=\"63.623047\" xlink:href=\"#DejaVuSans-48\"/>\n       <use x=\"127.246094\" xlink:href=\"#DejaVuSans-48\"/>\n       <use x=\"190.869141\" xlink:href=\"#DejaVuSans-48\"/>\n      </g>\n     </g>\n    </g>\n    <g id=\"xtick_6\">\n     <g id=\"line2d_6\">\n      <g>\n       <use style=\"stroke:#000000;stroke-width:0.8;\" x=\"314.818991\" xlink:href=\"#m77679cad79\" y=\"224.64\"/>\n      </g>\n     </g>\n     <g id=\"text_6\">\n      <!-- 1200 -->\n      <g transform=\"translate(302.093991 239.238438)scale(0.1 -0.1)\">\n       <use xlink:href=\"#DejaVuSans-49\"/>\n       <use x=\"63.623047\" xlink:href=\"#DejaVuSans-50\"/>\n       <use x=\"127.246094\" xlink:href=\"#DejaVuSans-48\"/>\n       <use x=\"190.869141\" xlink:href=\"#DejaVuSans-48\"/>\n      </g>\n     </g>\n    </g>\n    <g id=\"xtick_7\">\n     <g id=\"line2d_7\">\n      <g>\n       <use style=\"stroke:#000000;stroke-width:0.8;\" x=\"358.61232\" xlink:href=\"#m77679cad79\" y=\"224.64\"/>\n      </g>\n     </g>\n     <g id=\"text_7\">\n      <!-- 1400 -->\n      <g transform=\"translate(345.88732 239.238438)scale(0.1 -0.1)\">\n       <use xlink:href=\"#DejaVuSans-49\"/>\n       <use x=\"63.623047\" xlink:href=\"#DejaVuSans-52\"/>\n       <use x=\"127.246094\" xlink:href=\"#DejaVuSans-48\"/>\n       <use x=\"190.869141\" xlink:href=\"#DejaVuSans-48\"/>\n      </g>\n     </g>\n    </g>\n   </g>\n   <g id=\"matplotlib.axis_2\">\n    <g id=\"ytick_1\">\n     <g id=\"line2d_8\">\n      <defs>\n       <path d=\"M 0 0 \nL -3.5 0 \n\" id=\"me6a218727f\" style=\"stroke:#000000;stroke-width:0.8;\"/>\n      </defs>\n      <g>\n       <use style=\"stroke:#000000;stroke-width:0.8;\" x=\"58.7375\" xlink:href=\"#me6a218727f\" y=\"219.797839\"/>\n      </g>\n     </g>\n     <g id=\"text_8\">\n      <!-- 1275000 -->\n      <defs>\n       <path d=\"M 8.203125 72.90625 \nL 55.078125 72.90625 \nL 55.078125 68.703125 \nL 28.609375 0 \nL 18.3125 0 \nL 43.21875 64.59375 \nL 8.203125 64.59375 \nz\n\" id=\"DejaVuSans-55\"/>\n       <path d=\"M 10.796875 72.90625 \nL 49.515625 72.90625 \nL 49.515625 64.59375 \nL 19.828125 64.59375 \nL 19.828125 46.734375 \nQ 21.96875 47.46875 24.109375 47.828125 \nQ 26.265625 48.1875 28.421875 48.1875 \nQ 40.625 48.1875 47.75 41.5 \nQ 54.890625 34.8125 54.890625 23.390625 \nQ 54.890625 11.625 47.5625 5.09375 \nQ 40.234375 -1.421875 26.90625 -1.421875 \nQ 22.3125 -1.421875 17.546875 -0.640625 \nQ 12.796875 0.140625 7.71875 1.703125 \nL 7.71875 11.625 \nQ 12.109375 9.234375 16.796875 8.0625 \nQ 21.484375 6.890625 26.703125 6.890625 \nQ 35.15625 6.890625 40.078125 11.328125 \nQ 45.015625 15.765625 45.015625 23.390625 \nQ 45.015625 31 40.078125 35.4375 \nQ 35.15625 39.890625 26.703125 39.890625 \nQ 22.75 39.890625 18.8125 39.015625 \nQ 14.890625 38.140625 10.796875 36.28125 \nz\n\" id=\"DejaVuSans-53\"/>\n      </defs>\n      <g transform=\"translate(7.2 223.597057)scale(0.1 -0.1)\">\n       <use xlink:href=\"#DejaVuSans-49\"/>\n       <use x=\"63.623047\" xlink:href=\"#DejaVuSans-50\"/>\n       <use x=\"127.246094\" xlink:href=\"#DejaVuSans-55\"/>\n       <use x=\"190.869141\" xlink:href=\"#DejaVuSans-53\"/>\n       <use x=\"254.492188\" xlink:href=\"#DejaVuSans-48\"/>\n       <use x=\"318.115234\" xlink:href=\"#DejaVuSans-48\"/>\n       <use x=\"381.738281\" xlink:href=\"#DejaVuSans-48\"/>\n      </g>\n     </g>\n    </g>\n    <g id=\"ytick_2\">\n     <g id=\"line2d_9\">\n      <g>\n       <use style=\"stroke:#000000;stroke-width:0.8;\" x=\"58.7375\" xlink:href=\"#me6a218727f\" y=\"192.690002\"/>\n      </g>\n     </g>\n     <g id=\"text_9\">\n      <!-- 1300000 -->\n      <defs>\n       <path d=\"M 40.578125 39.3125 \nQ 47.65625 37.796875 51.625 33 \nQ 55.609375 28.21875 55.609375 21.1875 \nQ 55.609375 10.40625 48.1875 4.484375 \nQ 40.765625 -1.421875 27.09375 -1.421875 \nQ 22.515625 -1.421875 17.65625 -0.515625 \nQ 12.796875 0.390625 7.625 2.203125 \nL 7.625 11.71875 \nQ 11.71875 9.328125 16.59375 8.109375 \nQ 21.484375 6.890625 26.8125 6.890625 \nQ 36.078125 6.890625 40.9375 10.546875 \nQ 45.796875 14.203125 45.796875 21.1875 \nQ 45.796875 27.640625 41.28125 31.265625 \nQ 36.765625 34.90625 28.71875 34.90625 \nL 20.21875 34.90625 \nL 20.21875 43.015625 \nL 29.109375 43.015625 \nQ 36.375 43.015625 40.234375 45.921875 \nQ 44.09375 48.828125 44.09375 54.296875 \nQ 44.09375 59.90625 40.109375 62.90625 \nQ 36.140625 65.921875 28.71875 65.921875 \nQ 24.65625 65.921875 20.015625 65.03125 \nQ 15.375 64.15625 9.8125 62.3125 \nL 9.8125 71.09375 \nQ 15.4375 72.65625 20.34375 73.4375 \nQ 25.25 74.21875 29.59375 74.21875 \nQ 40.828125 74.21875 47.359375 69.109375 \nQ 53.90625 64.015625 53.90625 55.328125 \nQ 53.90625 49.265625 50.4375 45.09375 \nQ 46.96875 40.921875 40.578125 39.3125 \nz\n\" id=\"DejaVuSans-51\"/>\n      </defs>\n      <g transform=\"translate(7.2 196.48922)scale(0.1 -0.1)\">\n       <use xlink:href=\"#DejaVuSans-49\"/>\n       <use x=\"63.623047\" xlink:href=\"#DejaVuSans-51\"/>\n       <use x=\"127.246094\" xlink:href=\"#DejaVuSans-48\"/>\n       <use x=\"190.869141\" xlink:href=\"#DejaVuSans-48\"/>\n       <use x=\"254.492188\" xlink:href=\"#DejaVuSans-48\"/>\n       <use x=\"318.115234\" xlink:href=\"#DejaVuSans-48\"/>\n       <use x=\"381.738281\" xlink:href=\"#DejaVuSans-48\"/>\n      </g>\n     </g>\n    </g>\n    <g id=\"ytick_3\">\n     <g id=\"line2d_10\">\n      <g>\n       <use style=\"stroke:#000000;stroke-width:0.8;\" x=\"58.7375\" xlink:href=\"#me6a218727f\" y=\"165.582164\"/>\n      </g>\n     </g>\n     <g id=\"text_10\">\n      <!-- 1325000 -->\n      <g transform=\"translate(7.2 169.381383)scale(0.1 -0.1)\">\n       <use xlink:href=\"#DejaVuSans-49\"/>\n       <use x=\"63.623047\" xlink:href=\"#DejaVuSans-51\"/>\n       <use x=\"127.246094\" xlink:href=\"#DejaVuSans-50\"/>\n       <use x=\"190.869141\" xlink:href=\"#DejaVuSans-53\"/>\n       <use x=\"254.492188\" xlink:href=\"#DejaVuSans-48\"/>\n       <use x=\"318.115234\" xlink:href=\"#DejaVuSans-48\"/>\n       <use x=\"381.738281\" xlink:href=\"#DejaVuSans-48\"/>\n      </g>\n     </g>\n    </g>\n    <g id=\"ytick_4\">\n     <g id=\"line2d_11\">\n      <g>\n       <use style=\"stroke:#000000;stroke-width:0.8;\" x=\"58.7375\" xlink:href=\"#me6a218727f\" y=\"138.474327\"/>\n      </g>\n     </g>\n     <g id=\"text_11\">\n      <!-- 1350000 -->\n      <g transform=\"translate(7.2 142.273546)scale(0.1 -0.1)\">\n       <use xlink:href=\"#DejaVuSans-49\"/>\n       <use x=\"63.623047\" xlink:href=\"#DejaVuSans-51\"/>\n       <use x=\"127.246094\" xlink:href=\"#DejaVuSans-53\"/>\n       <use x=\"190.869141\" xlink:href=\"#DejaVuSans-48\"/>\n       <use x=\"254.492188\" xlink:href=\"#DejaVuSans-48\"/>\n       <use x=\"318.115234\" xlink:href=\"#DejaVuSans-48\"/>\n       <use x=\"381.738281\" xlink:href=\"#DejaVuSans-48\"/>\n      </g>\n     </g>\n    </g>\n    <g id=\"ytick_5\">\n     <g id=\"line2d_12\">\n      <g>\n       <use style=\"stroke:#000000;stroke-width:0.8;\" x=\"58.7375\" xlink:href=\"#me6a218727f\" y=\"111.36649\"/>\n      </g>\n     </g>\n     <g id=\"text_12\">\n      <!-- 1375000 -->\n      <g transform=\"translate(7.2 115.165709)scale(0.1 -0.1)\">\n       <use xlink:href=\"#DejaVuSans-49\"/>\n       <use x=\"63.623047\" xlink:href=\"#DejaVuSans-51\"/>\n       <use x=\"127.246094\" xlink:href=\"#DejaVuSans-55\"/>\n       <use x=\"190.869141\" xlink:href=\"#DejaVuSans-53\"/>\n       <use x=\"254.492188\" xlink:href=\"#DejaVuSans-48\"/>\n       <use x=\"318.115234\" xlink:href=\"#DejaVuSans-48\"/>\n       <use x=\"381.738281\" xlink:href=\"#DejaVuSans-48\"/>\n      </g>\n     </g>\n    </g>\n    <g id=\"ytick_6\">\n     <g id=\"line2d_13\">\n      <g>\n       <use style=\"stroke:#000000;stroke-width:0.8;\" x=\"58.7375\" xlink:href=\"#me6a218727f\" y=\"84.258653\"/>\n      </g>\n     </g>\n     <g id=\"text_13\">\n      <!-- 1400000 -->\n      <g transform=\"translate(7.2 88.057872)scale(0.1 -0.1)\">\n       <use xlink:href=\"#DejaVuSans-49\"/>\n       <use x=\"63.623047\" xlink:href=\"#DejaVuSans-52\"/>\n       <use x=\"127.246094\" xlink:href=\"#DejaVuSans-48\"/>\n       <use x=\"190.869141\" xlink:href=\"#DejaVuSans-48\"/>\n       <use x=\"254.492188\" xlink:href=\"#DejaVuSans-48\"/>\n       <use x=\"318.115234\" xlink:href=\"#DejaVuSans-48\"/>\n       <use x=\"381.738281\" xlink:href=\"#DejaVuSans-48\"/>\n      </g>\n     </g>\n    </g>\n    <g id=\"ytick_7\">\n     <g id=\"line2d_14\">\n      <g>\n       <use style=\"stroke:#000000;stroke-width:0.8;\" x=\"58.7375\" xlink:href=\"#me6a218727f\" y=\"57.150816\"/>\n      </g>\n     </g>\n     <g id=\"text_14\">\n      <!-- 1425000 -->\n      <g transform=\"translate(7.2 60.950035)scale(0.1 -0.1)\">\n       <use xlink:href=\"#DejaVuSans-49\"/>\n       <use x=\"63.623047\" xlink:href=\"#DejaVuSans-52\"/>\n       <use x=\"127.246094\" xlink:href=\"#DejaVuSans-50\"/>\n       <use x=\"190.869141\" xlink:href=\"#DejaVuSans-53\"/>\n       <use x=\"254.492188\" xlink:href=\"#DejaVuSans-48\"/>\n       <use x=\"318.115234\" xlink:href=\"#DejaVuSans-48\"/>\n       <use x=\"381.738281\" xlink:href=\"#DejaVuSans-48\"/>\n      </g>\n     </g>\n    </g>\n    <g id=\"ytick_8\">\n     <g id=\"line2d_15\">\n      <g>\n       <use style=\"stroke:#000000;stroke-width:0.8;\" x=\"58.7375\" xlink:href=\"#me6a218727f\" y=\"30.042979\"/>\n      </g>\n     </g>\n     <g id=\"text_15\">\n      <!-- 1450000 -->\n      <g transform=\"translate(7.2 33.842198)scale(0.1 -0.1)\">\n       <use xlink:href=\"#DejaVuSans-49\"/>\n       <use x=\"63.623047\" xlink:href=\"#DejaVuSans-52\"/>\n       <use x=\"127.246094\" xlink:href=\"#DejaVuSans-53\"/>\n       <use x=\"190.869141\" xlink:href=\"#DejaVuSans-48\"/>\n       <use x=\"254.492188\" xlink:href=\"#DejaVuSans-48\"/>\n       <use x=\"318.115234\" xlink:href=\"#DejaVuSans-48\"/>\n       <use x=\"381.738281\" xlink:href=\"#DejaVuSans-48\"/>\n      </g>\n     </g>\n    </g>\n   </g>\n   <g id=\"line2d_16\">\n    <path clip-path=\"url(#pf008364ac3)\" d=\"M 73.955682 17.083636 \nL 78.335015 33.712072 \nL 80.524681 40.770527 \nL 82.714348 44.998005 \nL 84.904014 50.442901 \nL 87.093681 56.402795 \nL 89.283347 61.529189 \nL 91.473013 67.910319 \nL 93.66268 71.37776 \nL 95.852346 73.18483 \nL 98.042013 77.878995 \nL 102.421346 84.744781 \nL 104.611012 91.192785 \nL 106.800679 91.657162 \nL 108.990345 94.684678 \nL 111.180011 96.150105 \nL 115.559344 102.699204 \nL 117.749011 106.93123 \nL 119.938677 110.143568 \nL 122.128344 110.809841 \nL 124.31801 113.878798 \nL 126.507677 115.333597 \nL 128.697343 118.216421 \nL 130.887009 119.870126 \nL 133.076676 121.91669 \nL 135.266342 123.62877 \nL 137.456009 124.870662 \nL 139.645675 126.550479 \nL 141.835342 130.290987 \nL 144.025008 133.172087 \nL 146.214675 135.7059 \nL 148.404341 136.376028 \nL 150.594008 137.581708 \nL 152.783674 138.515132 \nL 157.163007 141.49896 \nL 159.352673 143.6476 \nL 161.54234 145.143213 \nL 163.732006 147.525209 \nL 165.921673 148.721783 \nL 168.111339 148.382689 \nL 170.301006 152.686622 \nL 172.490672 153.395986 \nL 174.680338 153.43077 \nL 176.870005 154.356621 \nL 179.059671 155.650595 \nL 181.249338 156.480243 \nL 183.439004 158.788231 \nL 185.628671 159.355174 \nL 187.818337 159.022745 \nL 190.008004 160.61605 \nL 192.19767 161.208669 \nL 194.387336 162.786 \nL 196.577003 165.679922 \nL 198.766669 164.591477 \nL 200.956336 166.185457 \nL 203.146002 166.739013 \nL 205.335669 168.845586 \nL 207.525335 170.197443 \nL 209.715002 169.809852 \nL 211.904668 170.850978 \nL 214.094335 173.427064 \nL 216.284001 173.293954 \nL 218.473667 174.171709 \nL 220.663334 174.085342 \nL 222.853 174.527562 \nL 225.042667 176.066903 \nL 227.232333 176.493493 \nL 229.422 178.585138 \nL 231.611666 177.527372 \nL 233.801333 179.401556 \nL 235.990999 180.112162 \nL 238.180665 180.180914 \nL 240.370332 180.579597 \nL 242.559998 181.604534 \nL 244.749665 183.159418 \nL 246.939331 183.265901 \nL 249.128998 183.80577 \nL 251.318664 184.868966 \nL 253.508331 184.870163 \nL 257.887664 186.46117 \nL 260.07733 187.005985 \nL 262.266996 187.942494 \nL 264.456663 189.280912 \nL 266.646329 189.038635 \nL 268.835996 189.612048 \nL 271.025662 189.673897 \nL 273.215329 191.202434 \nL 275.404995 190.707369 \nL 277.594662 192.776182 \nL 279.784328 192.82026 \nL 281.973994 194.227119 \nL 284.163661 194.691069 \nL 286.353327 196.221263 \nL 288.542994 195.883735 \nL 290.73266 196.703008 \nL 292.922327 196.691929 \nL 295.111993 196.54535 \nL 297.30166 197.569024 \nL 299.491326 197.695766 \nL 301.680992 198.440692 \nL 303.870659 199.023318 \nL 306.060325 200.217067 \nL 308.249992 199.711012 \nL 310.439658 200.47202 \nL 312.629325 200.202312 \nL 314.818991 200.795091 \nL 317.008658 201.157184 \nL 321.387991 204.068666 \nL 323.577657 203.531974 \nL 325.767323 204.243755 \nL 327.95699 204.222855 \nL 330.146656 204.838676 \nL 332.336323 205.216197 \nL 334.525989 206.74068 \nL 336.715656 206.751103 \nL 338.905322 206.883492 \nL 341.094989 207.581377 \nL 343.284655 208.45818 \nL 345.474321 208.292395 \nL 347.663988 209.576495 \nL 349.853654 209.129053 \nL 352.043321 209.781704 \nL 354.232987 209.662098 \nL 356.422654 209.97466 \nL 358.61232 210.103377 \nL 360.801987 210.361164 \nL 362.991653 211.162804 \nL 365.181319 211.290608 \nL 367.370986 211.979503 \nL 369.560652 212.800544 \nL 371.750319 212.454973 \nL 373.939985 213.336751 \nL 376.129652 214.414914 \nL 378.319318 214.756364 \nL 378.319318 214.756364 \n\" style=\"fill:none;stroke:#1f77b4;stroke-linecap:square;stroke-width:1.5;\"/>\n   </g>\n   <g id=\"patch_3\">\n    <path d=\"M 58.7375 224.64 \nL 58.7375 7.2 \n\" style=\"fill:none;stroke:#000000;stroke-linecap:square;stroke-linejoin:miter;stroke-width:0.8;\"/>\n   </g>\n   <g id=\"patch_4\">\n    <path d=\"M 393.5375 224.64 \nL 393.5375 7.2 \n\" style=\"fill:none;stroke:#000000;stroke-linecap:square;stroke-linejoin:miter;stroke-width:0.8;\"/>\n   </g>\n   <g id=\"patch_5\">\n    <path d=\"M 58.7375 224.64 \nL 393.5375 224.64 \n\" style=\"fill:none;stroke:#000000;stroke-linecap:square;stroke-linejoin:miter;stroke-width:0.8;\"/>\n   </g>\n   <g id=\"patch_6\">\n    <path d=\"M 58.7375 7.2 \nL 393.5375 7.2 \n\" style=\"fill:none;stroke:#000000;stroke-linecap:square;stroke-linejoin:miter;stroke-width:0.8;\"/>\n   </g>\n  </g>\n </g>\n <defs>\n  <clipPath id=\"pf008364ac3\">\n   <rect height=\"217.44\" width=\"334.8\" x=\"58.7375\" y=\"7.2\"/>\n  </clipPath>\n </defs>\n</svg>\n",
      "image/png": "[encoded data removed]"
     },
     "metadata": {
      "needs_background": "light"
     }
    }
   ],
   "source": [
    "n_components = np.arange(100, 1500, 10)\n",
    "models = [mixture.GaussianMixture(n, covariance_type='diag', random_state=0)\n",
    "        for n in n_components]\n",
    "aics = []\n",
    "for model in models:\n",
    "    print(\"Fitting for model:\", model)\n",
    "    aics.append(model.fit(train_data_pca).aic(train_data_pca) )\n",
    "plt.plot(n_components, aics)"
   ]
  },
  {
   "cell_type": "code",
   "execution_count": null,
   "metadata": {},
   "outputs": [],
   "source": [
    "print()"
   ]
  },
  {
   "cell_type": "code",
   "execution_count": null,
   "metadata": {},
   "outputs": [],
   "source": [
    "plt.plot(aics + aics_cong)"
   ]
  },
  {
   "cell_type": "code",
   "execution_count": null,
   "metadata": {},
   "outputs": [],
   "source": [
    "train_pred = model.fit_predict(train_data)\n",
    "final_pred = assign_majority(train_pred, train_label)\n",
    "np.mean(final_pred == train_label)"
   ]
  },
  {
   "cell_type": "code",
   "execution_count": null,
   "metadata": {},
   "outputs": [],
   "source": [
    "aic"
   ]
  },
  {
   "cell_type": "code",
   "execution_count": null,
   "metadata": {},
   "outputs": [],
   "source": [
    "from refs.mnist_em_bmm_gmm import gmm\n",
    "model = gmm.gmm(20, verbose=True)"
   ]
  },
  {
   "cell_type": "code",
   "execution_count": null,
   "metadata": {},
   "outputs": [],
   "source": []
  },
  {
   "cell_type": "code",
   "execution_count": null,
   "metadata": {},
   "outputs": [],
   "source": []
  }
 ]
}