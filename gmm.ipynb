{
 "cells": [
  {
   "cell_type": "code",
   "execution_count": 1,
   "metadata": {},
   "outputs": [],
   "source": [
    "import os\n",
    "import sys\n",
    "sys.path.append(os.getcwd())\n",
    "\n",
    "from sklearn.cluster import KMeans\n",
    "from sklearn.datasets import load_digits\n",
    "from sklearn.decomposition import PCA\n",
    "from sklearn.preprocessing import scale\n",
    "from sklearn import mixture\n",
    "import matplotlib.pyplot as plt\n",
    "import time \n",
    "\n",
    "\n",
    "from lib.utils import *"
   ]
  },
  {
   "cell_type": "markdown",
   "metadata": {},
   "source": [
    "### Reading Data"
   ]
  },
  {
   "cell_type": "code",
   "execution_count": 2,
   "metadata": {},
   "outputs": [
    {
     "name": "stdout",
     "output_type": "stream",
     "text": [
      "************************ Loading mnist ************************\n",
      "n_digits: 10\n",
      "n_samples: 60000\n",
      "************************ Finished mnist ************************\n"
     ]
    }
   ],
   "source": [
    "train_data, train_label, test_data, test_label =  prepare_mnist_dataset()\n",
    "pca = PCA(0.8, whiten=True)\n",
    "pca.fit(train_data)\n",
    "train_data_pca = pca.transform(train_data)\n",
    "test_data_pca = pca.transform(test_data)"
   ]
  },
  {
   "cell_type": "code",
   "execution_count": 5,
   "metadata": {},
   "outputs": [
    {
     "data": {
      "text/plain": [
       "10000"
      ]
     },
     "execution_count": 5,
     "metadata": {},
     "output_type": "execute_result"
    }
   ],
   "source": [
    "len(test_data)"
   ]
  },
  {
   "cell_type": "code",
   "execution_count": 66,
   "metadata": {},
   "outputs": [
    {
     "data": {
      "image/png": "[encoded data removed]",
      "text/plain": [
       "<Figure size 432x288 with 1 Axes>"
      ]
     },
     "metadata": {
      "needs_background": "light"
     },
     "output_type": "display_data"
    }
   ],
   "source": [
    "plt.title(\"PCA Transformed data\")\n",
    "plt.imshow(pca.inverse_transform(test_data_pca[0]).reshape(28,28))\n",
    "plt.show()\n"
   ]
  },
  {
   "cell_type": "code",
   "execution_count": null,
   "metadata": {},
   "outputs": [],
   "source": []
  },
  {
   "cell_type": "code",
   "execution_count": null,
   "metadata": {},
   "outputs": [],
   "source": []
  },
  {
   "cell_type": "code",
   "execution_count": 18,
   "metadata": {},
   "outputs": [
    {
     "name": "stdout",
     "output_type": "stream",
     "text": [
      "Fitting for model: GaussianMixture(covariance_type='diag', init_params='kmeans', max_iter=100,\n",
      "                means_init=None, n_components=100, n_init=1,\n",
      "                precisions_init=None, random_state=0, reg_covar=1e-06,\n",
      "                tol=0.001, verbose=0, verbose_interval=10, warm_start=False,\n",
      "                weights_init=None)\n",
      "12.506806135177612\n",
      "Fitting for model: GaussianMixture(covariance_type='diag', init_params='kmeans', max_iter=100,\n",
      "                means_init=None, n_components=400, n_init=1,\n",
      "                precisions_init=None, random_state=0, reg_covar=1e-06,\n",
      "                tol=0.001, verbose=0, verbose_interval=10, warm_start=False,\n",
      "                weights_init=None)\n",
      "56.73053812980652\n",
      "Fitting for model: GaussianMixture(covariance_type='diag', init_params='kmeans', max_iter=100,\n",
      "                means_init=None, n_components=700, n_init=1,\n",
      "                precisions_init=None, random_state=0, reg_covar=1e-06,\n",
      "                tol=0.001, verbose=0, verbose_interval=10, warm_start=False,\n",
      "                weights_init=None)\n",
      "107.22494339942932\n",
      "Fitting for model: GaussianMixture(covariance_type='diag', init_params='kmeans', max_iter=100,\n",
      "                means_init=None, n_components=1000, n_init=1,\n",
      "                precisions_init=None, random_state=0, reg_covar=1e-06,\n",
      "                tol=0.001, verbose=0, verbose_interval=10, warm_start=False,\n",
      "                weights_init=None)\n",
      "95.41291809082031\n",
      "Fitting for model: GaussianMixture(covariance_type='diag', init_params='kmeans', max_iter=100,\n",
      "                means_init=None, n_components=1300, n_init=1,\n",
      "                precisions_init=None, random_state=0, reg_covar=1e-06,\n",
      "                tol=0.001, verbose=0, verbose_interval=10, warm_start=False,\n",
      "                weights_init=None)\n",
      "128.59041023254395\n",
      "Fitting for model: GaussianMixture(covariance_type='diag', init_params='kmeans', max_iter=100,\n",
      "                means_init=None, n_components=1600, n_init=1,\n",
      "                precisions_init=None, random_state=0, reg_covar=1e-06,\n",
      "                tol=0.001, verbose=0, verbose_interval=10, warm_start=False,\n",
      "                weights_init=None)\n",
      "149.53514885902405\n",
      "Fitting for model: GaussianMixture(covariance_type='diag', init_params='kmeans', max_iter=100,\n",
      "                means_init=None, n_components=1900, n_init=1,\n",
      "                precisions_init=None, random_state=0, reg_covar=1e-06,\n",
      "                tol=0.001, verbose=0, verbose_interval=10, warm_start=False,\n",
      "                weights_init=None)\n",
      "185.51143741607666\n",
      "Fitting for model: GaussianMixture(covariance_type='diag', init_params='kmeans', max_iter=100,\n",
      "                means_init=None, n_components=2200, n_init=1,\n",
      "                precisions_init=None, random_state=0, reg_covar=1e-06,\n",
      "                tol=0.001, verbose=0, verbose_interval=10, warm_start=False,\n",
      "                weights_init=None)\n",
      "208.53062105178833\n",
      "Fitting for model: GaussianMixture(covariance_type='diag', init_params='kmeans', max_iter=100,\n",
      "                means_init=None, n_components=2500, n_init=1,\n",
      "                precisions_init=None, random_state=0, reg_covar=1e-06,\n",
      "                tol=0.001, verbose=0, verbose_interval=10, warm_start=False,\n",
      "                weights_init=None)\n",
      "259.7638075351715\n",
      "Fitting for model: GaussianMixture(covariance_type='diag', init_params='kmeans', max_iter=100,\n",
      "                means_init=None, n_components=2800, n_init=1,\n",
      "                precisions_init=None, random_state=0, reg_covar=1e-06,\n",
      "                tol=0.001, verbose=0, verbose_interval=10, warm_start=False,\n",
      "                weights_init=None)\n",
      "281.0885579586029\n",
      "Fitting for model: GaussianMixture(covariance_type='diag', init_params='kmeans', max_iter=100,\n",
      "                means_init=None, n_components=3100, n_init=1,\n",
      "                precisions_init=None, random_state=0, reg_covar=1e-06,\n",
      "                tol=0.001, verbose=0, verbose_interval=10, warm_start=False,\n",
      "                weights_init=None)\n",
      "344.0353560447693\n",
      "Fitting for model: GaussianMixture(covariance_type='diag', init_params='kmeans', max_iter=100,\n",
      "                means_init=None, n_components=3400, n_init=1,\n",
      "                precisions_init=None, random_state=0, reg_covar=1e-06,\n",
      "                tol=0.001, verbose=0, verbose_interval=10, warm_start=False,\n",
      "                weights_init=None)\n",
      "412.046010017395\n",
      "Fitting for model: GaussianMixture(covariance_type='diag', init_params='kmeans', max_iter=100,\n",
      "                means_init=None, n_components=3700, n_init=1,\n",
      "                precisions_init=None, random_state=0, reg_covar=1e-06,\n",
      "                tol=0.001, verbose=0, verbose_interval=10, warm_start=False,\n",
      "                weights_init=None)\n",
      "490.9729039669037\n",
      "Fitting for model: GaussianMixture(covariance_type='diag', init_params='kmeans', max_iter=100,\n",
      "                means_init=None, n_components=4000, n_init=1,\n",
      "                precisions_init=None, random_state=0, reg_covar=1e-06,\n",
      "                tol=0.001, verbose=0, verbose_interval=10, warm_start=False,\n",
      "                weights_init=None)\n",
      "451.5108480453491\n",
      "Fitting for model: GaussianMixture(covariance_type='diag', init_params='kmeans', max_iter=100,\n",
      "                means_init=None, n_components=4300, n_init=1,\n",
      "                precisions_init=None, random_state=0, reg_covar=1e-06,\n",
      "                tol=0.001, verbose=0, verbose_interval=10, warm_start=False,\n",
      "                weights_init=None)\n",
      "487.542418718338\n",
      "Fitting for model: GaussianMixture(covariance_type='diag', init_params='kmeans', max_iter=100,\n",
      "                means_init=None, n_components=4600, n_init=1,\n",
      "                precisions_init=None, random_state=0, reg_covar=1e-06,\n",
      "                tol=0.001, verbose=0, verbose_interval=10, warm_start=False,\n",
      "                weights_init=None)\n",
      "557.990053653717\n",
      "Fitting for model: GaussianMixture(covariance_type='diag', init_params='kmeans', max_iter=100,\n",
      "                means_init=None, n_components=4900, n_init=1,\n",
      "                precisions_init=None, random_state=0, reg_covar=1e-06,\n",
      "                tol=0.001, verbose=0, verbose_interval=10, warm_start=False,\n",
      "                weights_init=None)\n",
      "502.8771061897278\n"
     ]
    },
    {
     "data": {
      "text/plain": [
       "[<matplotlib.lines.Line2D at 0x7fa1cfe489e8>]"
      ]
     },
     "execution_count": 18,
     "metadata": {},
     "output_type": "execute_result"
    },
    {
     "data": {
      "image/png": "[encoded data removed]",
      "text/plain": [
       "<Figure size 432x288 with 1 Axes>"
      ]
     },
     "metadata": {
      "needs_background": "light"
     },
     "output_type": "display_data"
    }
   ],
   "source": [
    "\n",
    "n_components = np.arange(100, 5000, 300)\n",
    "models = [mixture.GaussianMixture(n, covariance_type='diag', random_state=0)\n",
    "        for n in n_components]\n",
    "aics = []\n",
    "for model in models:\n",
    "    print(\"Fitting for model:\", model)\n",
    "    t_s = time.time()\n",
    "    fitted_model = model.fit(train_data_pca)\n",
    "    aics.append(fitted_model.aic(train_data_pca) )\n",
    "    dt = time.time() - t_s\n",
    "    print(dt)\n",
    "plt.plot(n_components, aics)"
   ]
  },
  {
   "cell_type": "code",
   "execution_count": 68,
   "metadata": {},
   "outputs": [
    {
     "data": {
      "image/png": "[encoded data removed]",
      "text/plain": [
       "<Figure size 432x288 with 1 Axes>"
      ]
     },
     "metadata": {
      "needs_background": "light"
     },
     "output_type": "display_data"
    }
   ],
   "source": [
    "plt.title(\"Choosing # of components GMM using AIC\")\n",
    "plt.plot(n_components, aics)\n",
    "plt.show()"
   ]
  },
  {
   "cell_type": "code",
   "execution_count": null,
   "metadata": {},
   "outputs": [],
   "source": []
  },
  {
   "cell_type": "code",
   "execution_count": 71,
   "metadata": {},
   "outputs": [
    {
     "name": "stdout",
     "output_type": "stream",
     "text": [
      "Train: (60000, 44) Test: (10000, 44) Diag_type: full Num_comp 40\n",
      "Train Acc: 0.8475333333333334\n",
      "Test Acc: 0.8517\n"
     ]
    }
   ],
   "source": [
    "n_comp = 40\n",
    "cov_type = 'full'\n",
    "print(\"Train:\", train_data_pca.shape, \"Test:\", test_data_pca.shape, \"Diag_type:\", cov_type, \"Num_comp\", n_comp)\n",
    "gmm = mixture.GaussianMixture(n_components=n_comp, covariance_type=cov_type)\n",
    "gmm.fit(train_data_pca)\n",
    "\n",
    "\n",
    "train_pred = gmm.predict(train_data_pca)\n",
    "train_final_pred, label_dict = assign_majority(train_pred, train_label)\n",
    "print(\"Train Acc:\", np.mean(train_final_pred == train_label))\n",
    "\n",
    "test_pred = gmm.predict(test_data_pca)\n",
    "test_final_pred = pred_majority(test_pred, label_dict)\n",
    "print(\"Test Acc:\", np.mean(test_final_pred == test_label))"
   ]
  },
  {
   "cell_type": "code",
   "execution_count": null,
   "metadata": {},
   "outputs": [],
   "source": []
  },
  {
   "cell_type": "code",
   "execution_count": null,
   "metadata": {},
   "outputs": [],
   "source": []
  },
  {
   "cell_type": "code",
   "execution_count": null,
   "metadata": {},
   "outputs": [],
   "source": []
  },
  {
   "cell_type": "code",
   "execution_count": 93,
   "metadata": {},
   "outputs": [
    {
     "data": {
      "text/plain": [
       "0.2676"
      ]
     },
     "execution_count": 93,
     "metadata": {},
     "output_type": "execute_result"
    }
   ],
   "source": [
    "from scipy.optimize import linear_sum_assignment\n",
    "def bipartite_match(pred, gt, n_classes=None, presence=None):\n",
    "    \"\"\"Does maximum biprartite matching between `pred` and `gt`.\"\"\"\n",
    "\n",
    "    if n_classes is not None:\n",
    "        n_gt_labels, n_pred_labels = n_classes, n_classes\n",
    "    else:\n",
    "        n_gt_labels = np.unique(gt).shape[0]\n",
    "        n_pred_labels = np.unique(pred).shape[0]\n",
    "\n",
    "    cost_matrix = np.zeros([n_gt_labels, n_pred_labels], dtype=np.int32)\n",
    "    for label in range(n_gt_labels):\n",
    "        label_idx = (gt == label)\n",
    "        for new_label in range(n_pred_labels):\n",
    "            errors = np.equal(pred[label_idx], new_label).astype(np.float32)\n",
    "            if presence is not None:\n",
    "                errors *= presence[label_idx]\n",
    "\n",
    "            num_errors = errors.sum()\n",
    "            cost_matrix[label, new_label] = -num_errors\n",
    "\n",
    "    row_idx, col_idx = linear_sum_assignment(cost_matrix)\n",
    "    num_correct = -cost_matrix[row_idx, col_idx].sum()\n",
    "    acc = float(num_correct) / gt.shape[0]\n",
    "    return acc\n",
    "\n",
    "bipartite_match(train_pred, train_label)"
   ]
  },
  {
   "cell_type": "code",
   "execution_count": null,
   "metadata": {},
   "outputs": [],
   "source": []
  },
  {
   "cell_type": "code",
   "execution_count": null,
   "metadata": {},
   "outputs": [],
   "source": []
  },
  {
   "cell_type": "code",
   "execution_count": 94,
   "metadata": {},
   "outputs": [],
   "source": [
    "import os\n",
    "import sys\n",
    "sys.path.append(os.getcwd())\n",
    "\n",
    "from sklearn.cluster import KMeans\n",
    "from sklearn.datasets import load_digits\n",
    "from sklearn.decomposition import PCA\n",
    "from sklearn.preprocessing import scale\n",
    "from lib.kmeans_lib import *\n",
    "from lib.utils import *"
   ]
  },
  {
   "cell_type": "code",
   "execution_count": 97,
   "metadata": {},
   "outputs": [
    {
     "name": "stdout",
     "output_type": "stream",
     "text": [
      "done in 10.972s\n",
      "train acc: 0.513\n",
      "test acc: 0.517\n"
     ]
    }
   ],
   "source": [
    "n_samples = train_data.shape[0]\n",
    "n_digits = 10\n",
    "t0 = time()\n",
    "\n",
    "print(\"done in %0.3fs\" % (time() - t0))\n",
    "assigned_labels, train_final_pred = assign_labels_to_centroids_bipartite(km.labels_, train_label)\n",
    "train_acc = np.sum(train_final_pred == train_label) / n_samples\n",
    "print(\"train acc: %.3f\" % train_acc)\n",
    "\n",
    "predicted_label = km.predict(test_data)\n",
    "test_final_pred = np.zeros_like(predicted_label)\n",
    "for i in range(10):\n",
    "    test_final_pred[predicted_label == i] = assigned_labels[i]\n",
    "\n",
    "# _, test_final_pred = assign_labels_to_centroids(km.predict(test_data), test_label)\n",
    "test_acc = np.sum(test_final_pred == test_label) / len(test_label)\n",
    "print(\"test acc: %.3f\" % test_acc)"
   ]
  },
  {
   "cell_type": "code",
   "execution_count": 99,
   "metadata": {},
   "outputs": [],
   "source": []
  },
  {
   "cell_type": "code",
   "execution_count": 126,
   "metadata": {},
   "outputs": [
    {
     "data": {
      "text/plain": [
       "0.7528166666666667"
      ]
     },
     "execution_count": 126,
     "metadata": {},
     "output_type": "execute_result"
    }
   ],
   "source": [
    "def assign_majority(pred, label):\n",
    "    unique_pred = np.unique(pred)\n",
    "    final_pred = np.zeros(pred.shape)\n",
    "    label_dict = {}\n",
    "\n",
    "    for i in unique_pred:\n",
    "        pred_cases = np.where(pred == i)\n",
    "        case_labels = label[pred_cases[0]]\n",
    "        counts, freq = np.unique(case_labels, return_counts=True)\n",
    "        assigned_label = counts[np.argmax(freq)]\n",
    "        label_dict[i] = assigned_label\n",
    "    for i in unique_pred:\n",
    "        final_pred[pred == i] = label_dict[i]\n",
    "    return final_pred, label_dict\n",
    "km = KMeans(init='k-means++', n_clusters=30, n_init=1).fit(train_data)\n",
    "pred_labesl = km.labels_\n",
    "final_pred, label_dict = assign_majority(pred_labesl, train_label)\n",
    "np.sum(final_pred == train_label)/train_label.shape[0]"
   ]
  },
  {
   "cell_type": "code",
   "execution_count": null,
   "metadata": {},
   "outputs": [],
   "source": []
  },
  {
   "cell_type": "code",
   "execution_count": 7,
   "metadata": {},
   "outputs": [],
   "source": [
    "def prepare_shapenet_dataset():\n",
    "    print(\"************************ Loading shapnet ************************\")\n",
    "    mnist_trainset = datasets.MNIST(root='./data', train=True, download=True, transform=transforms.ToTensor())\n",
    "    mnist_testset = datasets.MNIST(root='./data', train=False, download=True, transform=transforms.ToTensor())\n",
    "\n",
    "    train_data, train_label = get_all_data_mnist(mnist_trainset) # train_data is 60000 x 28 x 28\n",
    "\n",
    "    n_samples = train_data.shape[0]\n",
    "    n_digits = len(np.unique(train_label))\n",
    "\n",
    "    print(\"n_digits: %d\" % n_digits)\n",
    "    print(\"n_samples: %d\" % n_samples)\n",
    "\n",
    "    train_data = train_data.reshape(-1, 784) # flatten, 60000 x 784\n",
    "    train_label = train_label.astype(int)\n",
    "\n",
    "    test_data, test_label = get_all_data_mnist(mnist_testset)\n",
    "    test_data = test_data.reshape(-1, 784)\n",
    "    test_label = test_label.astype(int)\n",
    "    print(\"************************ Finished mnist ************************\")\n",
    "    return train_data, train_label, test_data, test_label\n",
    "\n"
   ]
  },
  {
   "cell_type": "code",
   "execution_count": null,
   "metadata": {},
   "outputs": [],
   "source": []
  },
  {
   "cell_type": "code",
   "execution_count": null,
   "metadata": {},
   "outputs": [],
   "source": []
  },
  {
   "cell_type": "code",
   "execution_count": null,
   "metadata": {},
   "outputs": [],
   "source": []
  },
  {
   "cell_type": "code",
   "execution_count": 1,
   "metadata": {},
   "outputs": [
    {
     "name": "stdout",
     "output_type": "stream",
     "text": [
      "********************** Loading Shapenet Dataset **********************\n",
      "Dataset Mode:  train\n",
      "Dataset Length:  0\n",
      "********************** Finished Shapenet Dataset **********************\n"
     ]
    }
   ],
   "source": [
    "import os\n",
    "import sys\n",
    "import pdb\n",
    "import glob\n",
    "sys.path.append(os.getcwd())\n",
    "\n",
    "from PIL import Image\n",
    "import os.path\n",
    "import torch\n",
    "import numpy as np\n",
    "import torchvision.transforms as transforms\n",
    "import torch.utils.data as data\n",
    "import argparse\n",
    "import time\n",
    "import random\n",
    "# import numpy.ma as ma\n",
    "from lib.utils import *\n",
    "\n",
    "input_size = 128\n"
   ]
  },
  {
   "cell_type": "code",
   "execution_count": null,
   "metadata": {},
   "outputs": [],
   "source": []
  },
  {
   "cell_type": "code",
   "execution_count": 3,
   "metadata": {},
   "outputs": [],
   "source": [
    "def get_all_data_shapenet(dataset):\n",
    "    loader = torch.utils.data.DataLoader(dataset, batch_size=1200,  shuffle=True, num_workers=8)\n",
    "    imgs = []\n",
    "    targets = []\n",
    "\n",
    "    for i, (data, target) in enumerate(loader):\n",
    "        imgs.append(data.numpy().squeeze())\n",
    "        targets.append(target.numpy().squeeze())\n",
    "    imgs = np.concatenate(imgs)\n",
    "    targets = np.concatenate(targets)\n",
    "    return imgs.reshape(imgs.shape[0], -1), targets.astype(int)\n",
    "\n",
    "def prepare_shapenet_dataset(shapenet_root):\n",
    "    transforms_shapenet = transforms.Compose([transforms.Grayscale(), transforms.Resize(128), transforms.ToTensor()])\n",
    "    train_dataset = ShapenetDataset(\"train\", shapenet_root, transforms=transforms_shapenet)\n",
    "    test_dataset = ShapenetDataset(\"test\", shapenet_root, transforms=transforms_shapenet)\n",
    "\n",
    "    train_imgs, train_labels = get_all_data_shapenet(train_dataset)\n",
    "    test_imgs, test_labels = get_all_data_shapenet(test_dataset)\n",
    "    return train_imgs, train_labels, test_imgs, test_labels"
   ]
  },
  {
   "cell_type": "code",
   "execution_count": 4,
   "metadata": {},
   "outputs": [
    {
     "name": "stdout",
     "output_type": "stream",
     "text": [
      "********************** Loading Shapenet Dataset **********************\n",
      "Dataset Mode:  train\n",
      "Dataset Length:  60000\n",
      "********************** Finished Shapenet Dataset **********************\n",
      "********************** Loading Shapenet Dataset **********************\n",
      "Dataset Mode:  test\n",
      "Dataset Length:  10000\n",
      "********************** Finished Shapenet Dataset **********************\n"
     ]
    }
   ],
   "source": []
  },
  {
   "cell_type": "code",
   "execution_count": 5,
   "metadata": {},
   "outputs": [],
   "source": []
  },
  {
   "cell_type": "code",
   "execution_count": 8,
   "metadata": {},
   "outputs": [],
   "source": [
    "from sklearn import mixture\n",
    "from sklearn.decomposition import PCA\n",
    "def train_gmm(train_data, test_data, train_label, test_label, pca_percent = 0.8, cov_type = 'full', n_comp = 80):\n",
    "    pca = PCA(pca_percent, whiten=True)\n",
    "    pca = pca.fit(train_data)\n",
    "    train_data_pca = pca.transform(train_data)\n",
    "    test_data_pca = pca.transform(test_data)\n",
    "\n",
    "    print(\"Train:\", train_data_pca.shape, \"Test:\", test_data_pca.shape, \"Diag_type:\", cov_type, \"Num_comp\", n_comp)\n",
    "    gmm = mixture.GaussianMixture(n_components=n_comp, covariance_type=cov_type)\n",
    "    gmm.fit(train_data_pca)\n",
    "\n",
    "    train_pred = gmm.predict(train_data_pca)\n",
    "    train_final_pred, label_dict = assign_majority(train_pred, train_label)\n",
    "    print(\"Train Acc:\", np.mean(train_final_pred == train_label))\n",
    "\n",
    "    test_pred = gmm.predict(test_data_pca)\n",
    "    test_final_pred = pred_majority(test_pred, label_dict)\n",
    "    print(\"Test Acc:\", np.mean(test_final_pred == test_label))\n",
    "    \n",
    "    return train_data_pca, test_data_pca, gmm"
   ]
  },
  {
   "cell_type": "code",
   "execution_count": null,
   "metadata": {},
   "outputs": [],
   "source": [
    "train_data, train_label, test_data, test_label = prepare_shapenet_dataset(\"/hdd/zen/data/Reallite/Rendering/chair_cls1\")\n",
    "results = []\n",
    "for percent in np.linspace(0.4, 1, 5):\n",
    "    for n_comp in range(10, 150, 20):\n",
    "        print(percent, n_comp)\n",
    "        res = train_gmm(train_data, test_data, train_label, test_label, n_comp = n_comp, pca_percent = percent)\n",
    "        results.append((res,percent, n_comp))\n",
    "        print(\"---------\")\n",
    "pk.dump(results, open(\"shapenet_res.pkl\", \"wb\"))"
   ]
  },
  {
   "cell_type": "code",
   "execution_count": 83,
   "metadata": {},
   "outputs": [
    {
     "name": "stdout",
     "output_type": "stream",
     "text": [
      "********************** Loading Shapenet Dataset **********************\n",
      "Dataset Mode:  train\n",
      "Dataset Length:  60000\n",
      "********************** Finished Shapenet Dataset **********************\n",
      "********************** Loading Shapenet Dataset **********************\n",
      "Dataset Mode:  test\n",
      "Dataset Length:  10000\n",
      "********************** Finished Shapenet Dataset **********************\n",
      "Train Acc: 0.10663333333333333\n",
      "Test Acc: 0.1013\n",
      "---------------\n"
     ]
    }
   ],
   "source": [
    "train_data, train_label, test_data, test_label = prepare_shapenet_dataset(\"/hdd/zen/data/Reallite/Rendering/chair_cls1\")\n",
    "# results = pk.load(open(\"shapenet_res.pkl\", \"rb\"))\n",
    "# results = pk.load(open(\"gmm_res.pk\", \"rb\"))\n",
    "# results = pk.load(open(\"mnist_res.pkl\", \"rb\"))\n",
    "num_results = []\n",
    "for res, percent, n_comp in results:\n",
    "    train_data_pca, test_data_pca, gmm = res\n",
    "    train_pred = gmm.predict(train_data_pca)\n",
    "    train_final_pred, label_dict = assign_majority(train_pred, train_label)\n",
    "    train_acc = np.mean(train_final_pred == train_label)\n",
    "    print(\"Train Acc:\", train_acc)\n",
    "\n",
    "    test_pred = gmm.predict(test_data_pca)\n",
    "    test_final_pred = pred_majority(test_pred, label_dict)\n",
    "    test_acc = np.mean(test_final_pred == test_label)\n",
    "    print(\"Test Acc:\", test_acc)\n",
    "    num_results.append([percent, n_comp, test_acc, train_acc])\n",
    "    print(\"---------------\")\n",
    "    break"
   ]
  },
  {
   "cell_type": "code",
   "execution_count": 84,
   "metadata": {},
   "outputs": [
    {
     "name": "stdout",
     "output_type": "stream",
     "text": [
      "Train: (60000, 10) Test: (10000, 10) Diag_type: full Num_comp 130\n",
      "Train Acc: 0.7467833333333334\n",
      "Test Acc: 0.7456\n"
     ]
    },
    {
     "data": {
      "text/plain": [
       "(array([[-0.0599856 ,  1.1549321 ,  1.2061636 , ..., -0.6316522 ,\n",
       "          0.04324555, -0.6490124 ],\n",
       "        [ 0.594026  , -0.04988861, -0.30825853, ..., -0.36665875,\n",
       "          0.43171415, -0.47991443],\n",
       "        [-0.69227725, -0.14596406,  1.9005666 , ...,  0.09382654,\n",
       "         -0.41947186, -1.0258007 ],\n",
       "        ...,\n",
       "        [ 2.28007   ,  2.5673516 , -1.7221609 , ...,  0.89695615,\n",
       "         -1.9330819 ,  0.97890854],\n",
       "        [-0.41678807,  0.18737888,  0.74149245, ...,  0.39466113,\n",
       "         -1.0159398 ,  1.4918615 ],\n",
       "        [-0.5582272 ,  0.5599438 ,  0.25967693, ...,  1.2795209 ,\n",
       "          0.01965784,  0.9412623 ]], dtype=float32),\n",
       " array([[ 1.2943026 ,  0.45118225,  1.2212111 , ...,  1.3838397 ,\n",
       "          0.5397786 ,  0.13172771],\n",
       "        [-0.5597056 ,  0.47293052, -0.89658594, ...,  0.5413628 ,\n",
       "          0.9440707 ,  0.04769094],\n",
       "        [-0.47140595, -0.99291825, -1.4354997 , ..., -0.49724284,\n",
       "          1.1882927 ,  1.3497306 ],\n",
       "        ...,\n",
       "        [-1.3070908 ,  0.24634778,  0.01735616, ..., -0.6633458 ,\n",
       "          0.33618447, -0.29465058],\n",
       "        [ 0.5135295 , -0.03628891,  0.03646273, ..., -1.1421232 ,\n",
       "          0.90265703, -2.1963837 ],\n",
       "        [ 1.499087  , -2.0301685 , -2.0591063 , ...,  1.808159  ,\n",
       "          0.8197808 ,  2.015553  ]], dtype=float32),\n",
       " GaussianMixture(covariance_type='full', init_params='kmeans', max_iter=100,\n",
       "                 means_init=None, n_components=130, n_init=1,\n",
       "                 precisions_init=None, random_state=None, reg_covar=1e-06,\n",
       "                 tol=0.001, verbose=0, verbose_interval=10, warm_start=False,\n",
       "                 weights_init=None))"
      ]
     },
     "execution_count": 84,
     "metadata": {},
     "output_type": "execute_result"
    }
   ],
   "source": [
    "train_gmm(train_data, test_data, train_label, test_label, n_comp = 130, pca_percent = 0.4)"
   ]
  },
  {
   "cell_type": "code",
   "execution_count": null,
   "metadata": {},
   "outputs": [],
   "source": [
    "import matplotlib.pyplot as plt\n",
    "num_results = np.array(num_results)\n",
    "print(num_results)\n",
    "plt.plot(num_results[:,3])"
   ]
  },
  {
   "cell_type": "code",
   "execution_count": null,
   "metadata": {},
   "outputs": [],
   "source": []
  },
  {
   "cell_type": "markdown",
   "metadata": {},
   "source": [
    "### MNIST"
   ]
  },
  {
   "cell_type": "code",
   "execution_count": 49,
   "metadata": {
    "collapsed": true
   },
   "outputs": [
    {
     "name": "stdout",
     "output_type": "stream",
     "text": [
      "************************ Loading mnist ************************\n",
      "n_digits: 10\n",
      "n_samples: 60000\n",
      "************************ Finished mnist ************************\n",
      "0.4 10\n",
      "Train: (60000, 7) Test: (10000, 7) Diag_type: full Num_comp 10\n",
      "Train Acc: 0.6373833333333333\n",
      "Test Acc: 0.6393\n",
      "---------\n",
      "0.4 30\n",
      "Train: (60000, 7) Test: (10000, 7) Diag_type: full Num_comp 30\n",
      "Train Acc: 0.7219166666666667\n",
      "Test Acc: 0.7211\n",
      "---------\n",
      "0.4 50\n",
      "Train: (60000, 7) Test: (10000, 7) Diag_type: full Num_comp 50\n",
      "Train Acc: 0.7712\n",
      "Test Acc: 0.7764\n",
      "---------\n",
      "0.4 70\n",
      "Train: (60000, 7) Test: (10000, 7) Diag_type: full Num_comp 70\n",
      "Train Acc: 0.7965833333333333\n",
      "Test Acc: 0.7961\n",
      "---------\n",
      "0.4 90\n",
      "Train: (60000, 7) Test: (10000, 7) Diag_type: full Num_comp 90\n",
      "Train Acc: 0.80205\n",
      "Test Acc: 0.8039\n",
      "---------\n",
      "0.4 110\n",
      "Train: (60000, 7) Test: (10000, 7) Diag_type: full Num_comp 110\n",
      "Train Acc: 0.8091\n",
      "Test Acc: 0.8084\n",
      "---------\n",
      "0.4 130\n",
      "Train: (60000, 7) Test: (10000, 7) Diag_type: full Num_comp 130\n",
      "Train Acc: 0.81235\n",
      "Test Acc: 0.8098\n",
      "---------\n",
      "0.55 10\n",
      "Train: (60000, 14) Test: (10000, 14) Diag_type: full Num_comp 10\n",
      "Train Acc: 0.6366833333333334\n",
      "Test Acc: 0.6439\n",
      "---------\n",
      "0.55 30\n",
      "Train: (60000, 14) Test: (10000, 14) Diag_type: full Num_comp 30\n",
      "Train Acc: 0.79965\n",
      "Test Acc: 0.8011\n",
      "---------\n",
      "0.55 50\n",
      "Train: (60000, 14) Test: (10000, 14) Diag_type: full Num_comp 50\n",
      "Train Acc: 0.86395\n",
      "Test Acc: 0.8609\n",
      "---------\n",
      "0.55 70\n",
      "Train: (60000, 14) Test: (10000, 14) Diag_type: full Num_comp 70\n",
      "Train Acc: 0.8999833333333334\n",
      "Test Acc: 0.8955\n",
      "---------\n",
      "0.55 90\n",
      "Train: (60000, 14) Test: (10000, 14) Diag_type: full Num_comp 90\n",
      "Train Acc: 0.8999833333333334\n",
      "Test Acc: 0.8977\n",
      "---------\n",
      "0.55 110\n",
      "Train: (60000, 14) Test: (10000, 14) Diag_type: full Num_comp 110\n",
      "Train Acc: 0.9001833333333333\n",
      "Test Acc: 0.8976\n",
      "---------\n",
      "0.55 130\n",
      "Train: (60000, 14) Test: (10000, 14) Diag_type: full Num_comp 130\n",
      "Train Acc: 0.9125666666666666\n",
      "Test Acc: 0.907\n",
      "---------\n",
      "0.7 10\n",
      "Train: (60000, 26) Test: (10000, 26) Diag_type: full Num_comp 10\n",
      "Train Acc: 0.6704166666666667\n",
      "Test Acc: 0.6726\n",
      "---------\n",
      "0.7 30\n",
      "Train: (60000, 26) Test: (10000, 26) Diag_type: full Num_comp 30\n",
      "Train Acc: 0.8136333333333333\n",
      "Test Acc: 0.8205\n",
      "---------\n",
      "0.7 50\n",
      "Train: (60000, 26) Test: (10000, 26) Diag_type: full Num_comp 50\n",
      "Train Acc: 0.8922833333333333\n",
      "Test Acc: 0.8965\n",
      "---------\n",
      "0.7 70\n",
      "Train: (60000, 26) Test: (10000, 26) Diag_type: full Num_comp 70\n",
      "Train Acc: 0.90345\n",
      "Test Acc: 0.9022\n",
      "---------\n",
      "0.7 90\n",
      "Train: (60000, 26) Test: (10000, 26) Diag_type: full Num_comp 90\n",
      "Train Acc: 0.9255833333333333\n",
      "Test Acc: 0.9211\n",
      "---------\n",
      "0.7 110\n",
      "Train: (60000, 26) Test: (10000, 26) Diag_type: full Num_comp 110\n",
      "Train Acc: 0.9265666666666666\n",
      "Test Acc: 0.922\n",
      "---------\n",
      "0.7 130\n",
      "Train: (60000, 26) Test: (10000, 26) Diag_type: full Num_comp 130\n",
      "Train Acc: 0.9275\n",
      "Test Acc: 0.9221\n",
      "---------\n",
      "0.85 10\n",
      "Train: (60000, 59) Test: (10000, 59) Diag_type: full Num_comp 10\n",
      "Train Acc: 0.5882166666666667\n",
      "Test Acc: 0.5934\n",
      "---------\n",
      "0.85 30\n",
      "Train: (60000, 59) Test: (10000, 59) Diag_type: full Num_comp 30\n"
     ]
    },
    {
     "name": "stderr",
     "output_type": "stream",
     "text": [
      "/root/anaconda3/envs/actmix/lib/python3.6/site-packages/sklearn/mixture/_base.py:267: ConvergenceWarning: Initialization 1 did not converge. Try different init parameters, or increase max_iter, tol or check for degenerate data.\n",
      "  % (init + 1), ConvergenceWarning)\n"
     ]
    },
    {
     "name": "stdout",
     "output_type": "stream",
     "text": [
      "Train Acc: 0.787\n",
      "Test Acc: 0.7943\n",
      "---------\n",
      "0.85 50\n",
      "Train: (60000, 59) Test: (10000, 59) Diag_type: full Num_comp 50\n"
     ]
    },
    {
     "name": "stderr",
     "output_type": "stream",
     "text": [
      "/root/anaconda3/envs/actmix/lib/python3.6/site-packages/sklearn/mixture/_base.py:267: ConvergenceWarning: Initialization 1 did not converge. Try different init parameters, or increase max_iter, tol or check for degenerate data.\n",
      "  % (init + 1), ConvergenceWarning)\n"
     ]
    },
    {
     "name": "stdout",
     "output_type": "stream",
     "text": [
      "Train Acc: 0.8439166666666666\n",
      "Test Acc: 0.8471\n",
      "---------\n",
      "0.85 70\n",
      "Train: (60000, 59) Test: (10000, 59) Diag_type: full Num_comp 70\n",
      "Train Acc: 0.8539\n",
      "Test Acc: 0.8498\n",
      "---------\n",
      "0.85 90\n",
      "Train: (60000, 59) Test: (10000, 59) Diag_type: full Num_comp 90\n"
     ]
    },
    {
     "name": "stderr",
     "output_type": "stream",
     "text": [
      "/root/anaconda3/envs/actmix/lib/python3.6/site-packages/sklearn/mixture/_base.py:267: ConvergenceWarning: Initialization 1 did not converge. Try different init parameters, or increase max_iter, tol or check for degenerate data.\n",
      "  % (init + 1), ConvergenceWarning)\n"
     ]
    },
    {
     "name": "stdout",
     "output_type": "stream",
     "text": [
      "Train Acc: 0.8762833333333333\n",
      "Test Acc: 0.8703\n",
      "---------\n",
      "0.85 110\n",
      "Train: (60000, 59) Test: (10000, 59) Diag_type: full Num_comp 110\n",
      "Train Acc: 0.8983833333333333\n",
      "Test Acc: 0.8918\n",
      "---------\n",
      "0.85 130\n",
      "Train: (60000, 59) Test: (10000, 59) Diag_type: full Num_comp 130\n",
      "Train Acc: 0.9012666666666667\n",
      "Test Acc: 0.8968\n",
      "---------\n",
      "1.0 10\n"
     ]
    },
    {
     "ename": "ValueError",
     "evalue": "n_components=1.0 must be of type int when greater than or equal to 1, was of type=<class 'numpy.float64'>",
     "output_type": "error",
     "traceback": [
      "\u001b[0;31m---------------------------------------------------------------------------\u001b[0m",
      "\u001b[0;31mValueError\u001b[0m                                Traceback (most recent call last)",
      "\u001b[0;32m<ipython-input-49-976168c1d055>\u001b[0m in \u001b[0;36m<module>\u001b[0;34m\u001b[0m\n\u001b[1;32m      4\u001b[0m     \u001b[0;32mfor\u001b[0m \u001b[0mn_comp\u001b[0m \u001b[0;32min\u001b[0m \u001b[0mrange\u001b[0m\u001b[0;34m(\u001b[0m\u001b[0;36m10\u001b[0m\u001b[0;34m,\u001b[0m \u001b[0;36m150\u001b[0m\u001b[0;34m,\u001b[0m \u001b[0;36m20\u001b[0m\u001b[0;34m)\u001b[0m\u001b[0;34m:\u001b[0m\u001b[0;34m\u001b[0m\u001b[0;34m\u001b[0m\u001b[0m\n\u001b[1;32m      5\u001b[0m         \u001b[0mprint\u001b[0m\u001b[0;34m(\u001b[0m\u001b[0mpercent\u001b[0m\u001b[0;34m,\u001b[0m \u001b[0mn_comp\u001b[0m\u001b[0;34m)\u001b[0m\u001b[0;34m\u001b[0m\u001b[0;34m\u001b[0m\u001b[0m\n\u001b[0;32m----> 6\u001b[0;31m         \u001b[0mres\u001b[0m \u001b[0;34m=\u001b[0m \u001b[0mtrain_gmm\u001b[0m\u001b[0;34m(\u001b[0m\u001b[0mtrain_data\u001b[0m\u001b[0;34m,\u001b[0m \u001b[0mtest_data\u001b[0m\u001b[0;34m,\u001b[0m \u001b[0mtrain_label\u001b[0m\u001b[0;34m,\u001b[0m \u001b[0mtest_label\u001b[0m\u001b[0;34m,\u001b[0m \u001b[0mn_comp\u001b[0m \u001b[0;34m=\u001b[0m \u001b[0mn_comp\u001b[0m\u001b[0;34m,\u001b[0m \u001b[0mpca_percent\u001b[0m \u001b[0;34m=\u001b[0m \u001b[0mpercent\u001b[0m\u001b[0;34m)\u001b[0m\u001b[0;34m\u001b[0m\u001b[0;34m\u001b[0m\u001b[0m\n\u001b[0m\u001b[1;32m      7\u001b[0m         \u001b[0mresults\u001b[0m\u001b[0;34m.\u001b[0m\u001b[0mappend\u001b[0m\u001b[0;34m(\u001b[0m\u001b[0;34m(\u001b[0m\u001b[0mres\u001b[0m\u001b[0;34m,\u001b[0m\u001b[0mpercent\u001b[0m\u001b[0;34m,\u001b[0m \u001b[0mn_comp\u001b[0m\u001b[0;34m)\u001b[0m\u001b[0;34m)\u001b[0m\u001b[0;34m\u001b[0m\u001b[0;34m\u001b[0m\u001b[0m\n\u001b[1;32m      8\u001b[0m         \u001b[0mprint\u001b[0m\u001b[0;34m(\u001b[0m\u001b[0;34m\"---------\"\u001b[0m\u001b[0;34m)\u001b[0m\u001b[0;34m\u001b[0m\u001b[0;34m\u001b[0m\u001b[0m\n",
      "\u001b[0;32m<ipython-input-8-5b06da2081d9>\u001b[0m in \u001b[0;36mtrain_gmm\u001b[0;34m(train_data, test_data, train_label, test_label, pca_percent, cov_type, n_comp)\u001b[0m\n\u001b[1;32m      3\u001b[0m \u001b[0;32mdef\u001b[0m \u001b[0mtrain_gmm\u001b[0m\u001b[0;34m(\u001b[0m\u001b[0mtrain_data\u001b[0m\u001b[0;34m,\u001b[0m \u001b[0mtest_data\u001b[0m\u001b[0;34m,\u001b[0m \u001b[0mtrain_label\u001b[0m\u001b[0;34m,\u001b[0m \u001b[0mtest_label\u001b[0m\u001b[0;34m,\u001b[0m \u001b[0mpca_percent\u001b[0m \u001b[0;34m=\u001b[0m \u001b[0;36m0.8\u001b[0m\u001b[0;34m,\u001b[0m \u001b[0mcov_type\u001b[0m \u001b[0;34m=\u001b[0m \u001b[0;34m'full'\u001b[0m\u001b[0;34m,\u001b[0m \u001b[0mn_comp\u001b[0m \u001b[0;34m=\u001b[0m \u001b[0;36m80\u001b[0m\u001b[0;34m)\u001b[0m\u001b[0;34m:\u001b[0m\u001b[0;34m\u001b[0m\u001b[0;34m\u001b[0m\u001b[0m\n\u001b[1;32m      4\u001b[0m     \u001b[0mpca\u001b[0m \u001b[0;34m=\u001b[0m \u001b[0mPCA\u001b[0m\u001b[0;34m(\u001b[0m\u001b[0mpca_percent\u001b[0m\u001b[0;34m,\u001b[0m \u001b[0mwhiten\u001b[0m\u001b[0;34m=\u001b[0m\u001b[0;32mTrue\u001b[0m\u001b[0;34m)\u001b[0m\u001b[0;34m\u001b[0m\u001b[0;34m\u001b[0m\u001b[0m\n\u001b[0;32m----> 5\u001b[0;31m     \u001b[0mpca\u001b[0m \u001b[0;34m=\u001b[0m \u001b[0mpca\u001b[0m\u001b[0;34m.\u001b[0m\u001b[0mfit\u001b[0m\u001b[0;34m(\u001b[0m\u001b[0mtrain_data\u001b[0m\u001b[0;34m)\u001b[0m\u001b[0;34m\u001b[0m\u001b[0;34m\u001b[0m\u001b[0m\n\u001b[0m\u001b[1;32m      6\u001b[0m     \u001b[0mtrain_data_pca\u001b[0m \u001b[0;34m=\u001b[0m \u001b[0mpca\u001b[0m\u001b[0;34m.\u001b[0m\u001b[0mtransform\u001b[0m\u001b[0;34m(\u001b[0m\u001b[0mtrain_data\u001b[0m\u001b[0;34m)\u001b[0m\u001b[0;34m\u001b[0m\u001b[0;34m\u001b[0m\u001b[0m\n\u001b[1;32m      7\u001b[0m     \u001b[0mtest_data_pca\u001b[0m \u001b[0;34m=\u001b[0m \u001b[0mpca\u001b[0m\u001b[0;34m.\u001b[0m\u001b[0mtransform\u001b[0m\u001b[0;34m(\u001b[0m\u001b[0mtest_data\u001b[0m\u001b[0;34m)\u001b[0m\u001b[0;34m\u001b[0m\u001b[0;34m\u001b[0m\u001b[0m\n",
      "\u001b[0;32m/root/anaconda3/envs/actmix/lib/python3.6/site-packages/sklearn/decomposition/_pca.py\u001b[0m in \u001b[0;36mfit\u001b[0;34m(self, X, y)\u001b[0m\n\u001b[1;32m    342\u001b[0m             \u001b[0mReturns\u001b[0m \u001b[0mthe\u001b[0m \u001b[0minstance\u001b[0m \u001b[0mitself\u001b[0m\u001b[0;34m.\u001b[0m\u001b[0;34m\u001b[0m\u001b[0;34m\u001b[0m\u001b[0m\n\u001b[1;32m    343\u001b[0m         \"\"\"\n\u001b[0;32m--> 344\u001b[0;31m         \u001b[0mself\u001b[0m\u001b[0;34m.\u001b[0m\u001b[0m_fit\u001b[0m\u001b[0;34m(\u001b[0m\u001b[0mX\u001b[0m\u001b[0;34m)\u001b[0m\u001b[0;34m\u001b[0m\u001b[0;34m\u001b[0m\u001b[0m\n\u001b[0m\u001b[1;32m    345\u001b[0m         \u001b[0;32mreturn\u001b[0m \u001b[0mself\u001b[0m\u001b[0;34m\u001b[0m\u001b[0;34m\u001b[0m\u001b[0m\n\u001b[1;32m    346\u001b[0m \u001b[0;34m\u001b[0m\u001b[0m\n",
      "\u001b[0;32m/root/anaconda3/envs/actmix/lib/python3.6/site-packages/sklearn/decomposition/_pca.py\u001b[0m in \u001b[0;36m_fit\u001b[0;34m(self, X)\u001b[0m\n\u001b[1;32m    416\u001b[0m             \u001b[0;32mreturn\u001b[0m \u001b[0mself\u001b[0m\u001b[0;34m.\u001b[0m\u001b[0m_fit_full\u001b[0m\u001b[0;34m(\u001b[0m\u001b[0mX\u001b[0m\u001b[0;34m,\u001b[0m \u001b[0mn_components\u001b[0m\u001b[0;34m)\u001b[0m\u001b[0;34m\u001b[0m\u001b[0;34m\u001b[0m\u001b[0m\n\u001b[1;32m    417\u001b[0m         \u001b[0;32melif\u001b[0m \u001b[0mself\u001b[0m\u001b[0;34m.\u001b[0m\u001b[0m_fit_svd_solver\u001b[0m \u001b[0;32min\u001b[0m \u001b[0;34m[\u001b[0m\u001b[0;34m'arpack'\u001b[0m\u001b[0;34m,\u001b[0m \u001b[0;34m'randomized'\u001b[0m\u001b[0;34m]\u001b[0m\u001b[0;34m:\u001b[0m\u001b[0;34m\u001b[0m\u001b[0;34m\u001b[0m\u001b[0m\n\u001b[0;32m--> 418\u001b[0;31m             \u001b[0;32mreturn\u001b[0m \u001b[0mself\u001b[0m\u001b[0;34m.\u001b[0m\u001b[0m_fit_truncated\u001b[0m\u001b[0;34m(\u001b[0m\u001b[0mX\u001b[0m\u001b[0;34m,\u001b[0m \u001b[0mn_components\u001b[0m\u001b[0;34m,\u001b[0m \u001b[0mself\u001b[0m\u001b[0;34m.\u001b[0m\u001b[0m_fit_svd_solver\u001b[0m\u001b[0;34m)\u001b[0m\u001b[0;34m\u001b[0m\u001b[0;34m\u001b[0m\u001b[0m\n\u001b[0m\u001b[1;32m    419\u001b[0m         \u001b[0;32melse\u001b[0m\u001b[0;34m:\u001b[0m\u001b[0;34m\u001b[0m\u001b[0;34m\u001b[0m\u001b[0m\n\u001b[1;32m    420\u001b[0m             raise ValueError(\"Unrecognized svd_solver='{0}'\"\n",
      "\u001b[0;32m/root/anaconda3/envs/actmix/lib/python3.6/site-packages/sklearn/decomposition/_pca.py\u001b[0m in \u001b[0;36m_fit_truncated\u001b[0;34m(self, X, n_components, svd_solver)\u001b[0m\n\u001b[1;32m    503\u001b[0m             raise ValueError(\"n_components=%r must be of type int \"\n\u001b[1;32m    504\u001b[0m                              \u001b[0;34m\"when greater than or equal to 1, was of type=%r\"\u001b[0m\u001b[0;34m\u001b[0m\u001b[0;34m\u001b[0m\u001b[0m\n\u001b[0;32m--> 505\u001b[0;31m                              % (n_components, type(n_components)))\n\u001b[0m\u001b[1;32m    506\u001b[0m         elif svd_solver == 'arpack' and n_components == min(n_samples,\n\u001b[1;32m    507\u001b[0m                                                             n_features):\n",
      "\u001b[0;31mValueError\u001b[0m: n_components=1.0 must be of type int when greater than or equal to 1, was of type=<class 'numpy.float64'>"
     ]
    }
   ],
   "source": [
    "train_data, train_label, test_data, test_label = prepare_mnist_dataset()\n",
    "results = []\n",
    "for percent in np.linspace(0.4, 1, 5):\n",
    "    for n_comp in range(10, 150, 20):\n",
    "        print(percent, n_comp)\n",
    "        res = train_gmm(train_data, test_data, train_label, test_label, n_comp = n_comp, pca_percent = percent)\n",
    "        results.append((res,percent, n_comp))\n",
    "        print(\"---------\")\n"
   ]
  },
  {
   "cell_type": "code",
   "execution_count": 81,
   "metadata": {},
   "outputs": [
    {
     "name": "stdout",
     "output_type": "stream",
     "text": [
      "************************ Loading mnist ************************\n",
      "n_digits: 10\n",
      "n_samples: 60000\n",
      "************************ Finished mnist ************************\n",
      "Train Acc: 0.11241666666666666\n",
      "Test Acc: 0.1128\n",
      "---------------\n"
     ]
    }
   ],
   "source": [
    "# pk.dump(results, open(\"mnist_res.pkl\", \"wb\"))\n",
    "# results = pk.load(open(\"mnist_res.pkl\", \"rb\"))\n",
    "results = pk.load(open(\"shapenet_res.pkl\", \"rb\"))\n",
    "train_data, train_label, test_data, test_label = prepare_mnist_dataset()\n",
    "num_results = []\n",
    "for res, percent, n_comp in results:\n",
    "    train_data_pca, test_data_pca, gmm = res\n",
    "    train_pred = gmm.predict(train_data_pca)\n",
    "    train_final_pred, label_dict = assign_majority(train_pred, train_label)\n",
    "    train_acc = np.mean(train_final_pred == train_label)\n",
    "    print(\"Train Acc:\", train_acc)\n",
    "\n",
    "    test_pred = gmm.predict(test_data_pca)\n",
    "    test_final_pred = pred_majority(test_pred, label_dict)\n",
    "    test_acc = np.mean(test_final_pred == test_label)\n",
    "    print(\"Test Acc:\", test_acc)\n",
    "    num_results.append([percent, n_comp, test_acc, train_acc])\n",
    "    print(\"---------------\")\n",
    "    break"
   ]
  },
  {
   "cell_type": "code",
   "execution_count": 52,
   "metadata": {},
   "outputs": [
    {
     "name": "stdout",
     "output_type": "stream",
     "text": [
      "[[  0.4         10.           0.6393       0.63738333]\n",
      " [  0.4         30.           0.7211       0.72191667]\n",
      " [  0.4         50.           0.7764       0.7712    ]\n",
      " [  0.4         70.           0.7961       0.79658333]\n",
      " [  0.4         90.           0.8039       0.80205   ]\n",
      " [  0.4        110.           0.8084       0.8091    ]\n",
      " [  0.4        130.           0.8098       0.81235   ]\n",
      " [  0.55        10.           0.6439       0.63668333]\n",
      " [  0.55        30.           0.8011       0.79965   ]\n",
      " [  0.55        50.           0.8609       0.86395   ]\n",
      " [  0.55        70.           0.8955       0.89998333]\n",
      " [  0.55        90.           0.8977       0.89998333]\n",
      " [  0.55       110.           0.8976       0.90018333]\n",
      " [  0.55       130.           0.907        0.91256667]\n",
      " [  0.7         10.           0.6726       0.67041667]\n",
      " [  0.7         30.           0.8205       0.81363333]\n",
      " [  0.7         50.           0.8965       0.89228333]\n",
      " [  0.7         70.           0.9022       0.90345   ]\n",
      " [  0.7         90.           0.9211       0.92558333]\n",
      " [  0.7        110.           0.922        0.92656667]\n",
      " [  0.7        130.           0.9221       0.9275    ]\n",
      " [  0.85        10.           0.5934       0.58821667]\n",
      " [  0.85        30.           0.7943       0.787     ]\n",
      " [  0.85        50.           0.8471       0.84391667]\n",
      " [  0.85        70.           0.8498       0.8539    ]\n",
      " [  0.85        90.           0.8703       0.87628333]\n",
      " [  0.85       110.           0.8918       0.89838333]\n",
      " [  0.85       130.           0.8968       0.90126667]]\n"
     ]
    },
    {
     "data": {
      "text/plain": [
       "[<matplotlib.lines.Line2D at 0x7fd46b4f3ba8>]"
      ]
     },
     "execution_count": 52,
     "metadata": {},
     "output_type": "execute_result"
    },
    {
     "data": {
      "image/png": "[encoded data removed]",
      "text/plain": [
       "<Figure size 432x288 with 1 Axes>"
      ]
     },
     "metadata": {
      "needs_background": "light"
     },
     "output_type": "display_data"
    }
   ],
   "source": [
    "import matplotlib.pyplot as plt\n",
    "num_results = np.array(num_results)\n",
    "print(num_results)\n",
    "plt.plot(num_results[:,3])"
   ]
  },
  {
   "cell_type": "code",
   "execution_count": 60,
   "metadata": {},
   "outputs": [
    {
     "data": {
      "text/plain": [
       "0.9275"
      ]
     },
     "execution_count": 60,
     "metadata": {},
     "output_type": "execute_result"
    }
   ],
   "source": [
    "np.max(num_results[:,3])"
   ]
  },
  {
   "cell_type": "code",
   "execution_count": null,
   "metadata": {},
   "outputs": [],
   "source": []
  }
 ],
 "metadata": {
  "kernelspec": {
   "display_name": "Python [conda env:actmix] *",
   "language": "python",
   "name": "conda-env-actmix-py"
  },
  "language_info": {
   "codemirror_mode": {
    "name": "ipython",
    "version": 3
   },
   "file_extension": ".py",
   "mimetype": "text/x-python",
   "name": "python",
   "nbconvert_exporter": "python",
   "pygments_lexer": "ipython3",
   "version": "3.6.9"
  }
 },
 "nbformat": 4,
 "nbformat_minor": 2
}
