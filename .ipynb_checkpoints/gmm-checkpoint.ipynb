{
 "cells": [
  {
   "cell_type": "code",
   "execution_count": null,
   "metadata": {},
   "outputs": [],
   "source": [
    "import os\n",
    "import sys\n",
    "sys.path.append(os.getcwd())\n",
    "\n",
    "from sklearn.cluster import KMeans\n",
    "from sklearn.datasets import load_digits\n",
    "from sklearn.decomposition import PCA\n",
    "from sklearn.preprocessing import scale\n",
    "from sklearn import mixture\n",
    "import matplotlib.pyplot as plt\n",
    "import time \n",
    "\n",
    "\n",
    "from lib.utils import *"
   ]
  },
  {
   "cell_type": "markdown",
   "metadata": {},
   "source": [
    "### Reading Data"
   ]
  },
  {
   "cell_type": "code",
   "execution_count": 3,
   "metadata": {},
   "outputs": [
    {
     "name": "stdout",
     "output_type": "stream",
     "text": [
      "************************ Loading mnist ************************\n",
      "n_digits: 10\n",
      "n_samples: 60000\n",
      "************************ Finished mnist ************************\n",
      "(60000, 11)\n"
     ]
    }
   ],
   "source": [
    "train_data, train_label, test_data, test_label =  prepare_mnist_dataset()\n",
    "pca = PCA(0.5, whiten=True)\n",
    "train_data_pca = pca.fit_transform(train_data)\n",
    "print(train_data_pca.shape)\n"
   ]
  },
  {
   "cell_type": "code",
   "execution_count": null,
   "metadata": {},
   "outputs": [],
   "source": [
    "\n",
    "n_components = np.arange(100, 5000, 50)\n",
    "models = [mixture.GaussianMixture(n, covariance_type='diag', random_state=0)\n",
    "        for n in n_components]\n",
    "aics = []\n",
    "fitted_models = []\n",
    "for model in models:\n",
    "    print(\"Fitting for model:\", model)\n",
    "    t_s = time.time()\n",
    "    fitted_model = model.fit(train_data_pca)\n",
    "    aics.append(fitted_model.aic(train_data_pca) )\n",
    "plt.plot(n_components, aics)"
   ]
  },
  {
   "cell_type": "code",
   "execution_count": null,
   "metadata": {},
   "outputs": [],
   "source": []
  },
  {
   "cell_type": "code",
   "execution_count": null,
   "metadata": {},
   "outputs": [],
   "source": []
  },
  {
   "cell_type": "code",
   "execution_count": null,
   "metadata": {},
   "outputs": [],
   "source": []
  },
  {
   "cell_type": "code",
   "execution_count": null,
   "metadata": {},
   "outputs": [],
   "source": []
  }
 ],
 "metadata": {
  "kernelspec": {
   "display_name": "Python [conda env:actmix] *",
   "language": "python",
   "name": "conda-env-actmix-py"
  },
  "language_info": {
   "codemirror_mode": {
    "name": "ipython",
    "version": 3
   },
   "file_extension": ".py",
   "mimetype": "text/x-python",
   "name": "python",
   "nbconvert_exporter": "python",
   "pygments_lexer": "ipython3",
   "version": "3.6.9"
  }
 },
 "nbformat": 4,
 "nbformat_minor": 2
}
