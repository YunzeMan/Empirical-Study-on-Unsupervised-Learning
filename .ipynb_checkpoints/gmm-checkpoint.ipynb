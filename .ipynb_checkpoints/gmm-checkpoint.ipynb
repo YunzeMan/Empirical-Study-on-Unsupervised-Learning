{
 "cells": [
  {
   "cell_type": "code",
   "execution_count": 1,
   "metadata": {},
   "outputs": [],
   "source": [
    "import os\n",
    "import sys\n",
    "sys.path.append(os.getcwd())\n",
    "\n",
    "from sklearn.cluster import KMeans\n",
    "from sklearn.datasets import load_digits\n",
    "from sklearn.decomposition import PCA\n",
    "from sklearn.preprocessing import scale\n",
    "from sklearn import mixture\n",
    "import matplotlib.pyplot as plt\n",
    "import time \n",
    "\n",
    "\n",
    "from lib.utils import *"
   ]
  },
  {
   "cell_type": "markdown",
   "metadata": {},
   "source": [
    "### Reading Data"
   ]
  },
  {
   "cell_type": "code",
   "execution_count": 2,
   "metadata": {},
   "outputs": [
    {
     "name": "stdout",
     "output_type": "stream",
     "text": [
      "************************ Loading mnist ************************\n",
      "n_digits: 10\n",
      "n_samples: 60000\n",
      "************************ Finished mnist ************************\n"
     ]
    }
   ],
   "source": [
    "train_data, train_label, test_data, test_label =  prepare_mnist_dataset()\n",
    "pca = PCA(0.8, whiten=True)\n",
    "pca.fit(train_data)\n",
    "train_data_pca = pca.transform(train_data)\n",
    "test_data_pca = pca.transform(test_data)"
   ]
  },
  {
   "cell_type": "code",
   "execution_count": 5,
   "metadata": {},
   "outputs": [
    {
     "data": {
      "text/plain": [
       "10000"
      ]
     },
     "execution_count": 5,
     "metadata": {},
     "output_type": "execute_result"
    }
   ],
   "source": [
    "len(test_data)"
   ]
  },
  {
   "cell_type": "code",
   "execution_count": 66,
   "metadata": {},
   "outputs": [
    {
     "data": {
      "image/png": "[encoded data removed]",
      "text/plain": [
       "<Figure size 432x288 with 1 Axes>"
      ]
     },
     "metadata": {
      "needs_background": "light"
     },
     "output_type": "display_data"
    }
   ],
   "source": [
    "plt.title(\"PCA Transformed data\")\n",
    "plt.imshow(pca.inverse_transform(test_data_pca[0]).reshape(28,28))\n",
    "plt.show()\n"
   ]
  },
  {
   "cell_type": "code",
   "execution_count": null,
   "metadata": {},
   "outputs": [],
   "source": []
  },
  {
   "cell_type": "code",
   "execution_count": null,
   "metadata": {},
   "outputs": [],
   "source": []
  },
  {
   "cell_type": "code",
   "execution_count": 18,
   "metadata": {},
   "outputs": [
    {
     "name": "stdout",
     "output_type": "stream",
     "text": [
      "Fitting for model: GaussianMixture(covariance_type='diag', init_params='kmeans', max_iter=100,\n",
      "                means_init=None, n_components=100, n_init=1,\n",
      "                precisions_init=None, random_state=0, reg_covar=1e-06,\n",
      "                tol=0.001, verbose=0, verbose_interval=10, warm_start=False,\n",
      "                weights_init=None)\n",
      "12.506806135177612\n",
      "Fitting for model: GaussianMixture(covariance_type='diag', init_params='kmeans', max_iter=100,\n",
      "                means_init=None, n_components=400, n_init=1,\n",
      "                precisions_init=None, random_state=0, reg_covar=1e-06,\n",
      "                tol=0.001, verbose=0, verbose_interval=10, warm_start=False,\n",
      "                weights_init=None)\n",
      "56.73053812980652\n",
      "Fitting for model: GaussianMixture(covariance_type='diag', init_params='kmeans', max_iter=100,\n",
      "                means_init=None, n_components=700, n_init=1,\n",
      "                precisions_init=None, random_state=0, reg_covar=1e-06,\n",
      "                tol=0.001, verbose=0, verbose_interval=10, warm_start=False,\n",
      "                weights_init=None)\n",
      "107.22494339942932\n",
      "Fitting for model: GaussianMixture(covariance_type='diag', init_params='kmeans', max_iter=100,\n",
      "                means_init=None, n_components=1000, n_init=1,\n",
      "                precisions_init=None, random_state=0, reg_covar=1e-06,\n",
      "                tol=0.001, verbose=0, verbose_interval=10, warm_start=False,\n",
      "                weights_init=None)\n",
      "95.41291809082031\n",
      "Fitting for model: GaussianMixture(covariance_type='diag', init_params='kmeans', max_iter=100,\n",
      "                means_init=None, n_components=1300, n_init=1,\n",
      "                precisions_init=None, random_state=0, reg_covar=1e-06,\n",
      "                tol=0.001, verbose=0, verbose_interval=10, warm_start=False,\n",
      "                weights_init=None)\n",
      "128.59041023254395\n",
      "Fitting for model: GaussianMixture(covariance_type='diag', init_params='kmeans', max_iter=100,\n",
      "                means_init=None, n_components=1600, n_init=1,\n",
      "                precisions_init=None, random_state=0, reg_covar=1e-06,\n",
      "                tol=0.001, verbose=0, verbose_interval=10, warm_start=False,\n",
      "                weights_init=None)\n",
      "149.53514885902405\n",
      "Fitting for model: GaussianMixture(covariance_type='diag', init_params='kmeans', max_iter=100,\n",
      "                means_init=None, n_components=1900, n_init=1,\n",
      "                precisions_init=None, random_state=0, reg_covar=1e-06,\n",
      "                tol=0.001, verbose=0, verbose_interval=10, warm_start=False,\n",
      "                weights_init=None)\n",
      "185.51143741607666\n",
      "Fitting for model: GaussianMixture(covariance_type='diag', init_params='kmeans', max_iter=100,\n",
      "                means_init=None, n_components=2200, n_init=1,\n",
      "                precisions_init=None, random_state=0, reg_covar=1e-06,\n",
      "                tol=0.001, verbose=0, verbose_interval=10, warm_start=False,\n",
      "                weights_init=None)\n",
      "208.53062105178833\n",
      "Fitting for model: GaussianMixture(covariance_type='diag', init_params='kmeans', max_iter=100,\n",
      "                means_init=None, n_components=2500, n_init=1,\n",
      "                precisions_init=None, random_state=0, reg_covar=1e-06,\n",
      "                tol=0.001, verbose=0, verbose_interval=10, warm_start=False,\n",
      "                weights_init=None)\n",
      "259.7638075351715\n",
      "Fitting for model: GaussianMixture(covariance_type='diag', init_params='kmeans', max_iter=100,\n",
      "                means_init=None, n_components=2800, n_init=1,\n",
      "                precisions_init=None, random_state=0, reg_covar=1e-06,\n",
      "                tol=0.001, verbose=0, verbose_interval=10, warm_start=False,\n",
      "                weights_init=None)\n",
      "281.0885579586029\n",
      "Fitting for model: GaussianMixture(covariance_type='diag', init_params='kmeans', max_iter=100,\n",
      "                means_init=None, n_components=3100, n_init=1,\n",
      "                precisions_init=None, random_state=0, reg_covar=1e-06,\n",
      "                tol=0.001, verbose=0, verbose_interval=10, warm_start=False,\n",
      "                weights_init=None)\n",
      "344.0353560447693\n",
      "Fitting for model: GaussianMixture(covariance_type='diag', init_params='kmeans', max_iter=100,\n",
      "                means_init=None, n_components=3400, n_init=1,\n",
      "                precisions_init=None, random_state=0, reg_covar=1e-06,\n",
      "                tol=0.001, verbose=0, verbose_interval=10, warm_start=False,\n",
      "                weights_init=None)\n",
      "412.046010017395\n",
      "Fitting for model: GaussianMixture(covariance_type='diag', init_params='kmeans', max_iter=100,\n",
      "                means_init=None, n_components=3700, n_init=1,\n",
      "                precisions_init=None, random_state=0, reg_covar=1e-06,\n",
      "                tol=0.001, verbose=0, verbose_interval=10, warm_start=False,\n",
      "                weights_init=None)\n",
      "490.9729039669037\n",
      "Fitting for model: GaussianMixture(covariance_type='diag', init_params='kmeans', max_iter=100,\n",
      "                means_init=None, n_components=4000, n_init=1,\n",
      "                precisions_init=None, random_state=0, reg_covar=1e-06,\n",
      "                tol=0.001, verbose=0, verbose_interval=10, warm_start=False,\n",
      "                weights_init=None)\n",
      "451.5108480453491\n",
      "Fitting for model: GaussianMixture(covariance_type='diag', init_params='kmeans', max_iter=100,\n",
      "                means_init=None, n_components=4300, n_init=1,\n",
      "                precisions_init=None, random_state=0, reg_covar=1e-06,\n",
      "                tol=0.001, verbose=0, verbose_interval=10, warm_start=False,\n",
      "                weights_init=None)\n",
      "487.542418718338\n",
      "Fitting for model: GaussianMixture(covariance_type='diag', init_params='kmeans', max_iter=100,\n",
      "                means_init=None, n_components=4600, n_init=1,\n",
      "                precisions_init=None, random_state=0, reg_covar=1e-06,\n",
      "                tol=0.001, verbose=0, verbose_interval=10, warm_start=False,\n",
      "                weights_init=None)\n",
      "557.990053653717\n",
      "Fitting for model: GaussianMixture(covariance_type='diag', init_params='kmeans', max_iter=100,\n",
      "                means_init=None, n_components=4900, n_init=1,\n",
      "                precisions_init=None, random_state=0, reg_covar=1e-06,\n",
      "                tol=0.001, verbose=0, verbose_interval=10, warm_start=False,\n",
      "                weights_init=None)\n",
      "502.8771061897278\n"
     ]
    },
    {
     "data": {
      "text/plain": [
       "[<matplotlib.lines.Line2D at 0x7fa1cfe489e8>]"
      ]
     },
     "execution_count": 18,
     "metadata": {},
     "output_type": "execute_result"
    },
    {
     "data": {
      "image/png": "[encoded data removed]",
      "text/plain": [
       "<Figure size 432x288 with 1 Axes>"
      ]
     },
     "metadata": {
      "needs_background": "light"
     },
     "output_type": "display_data"
    }
   ],
   "source": [
    "\n",
    "n_components = np.arange(100, 5000, 300)\n",
    "models = [mixture.GaussianMixture(n, covariance_type='diag', random_state=0)\n",
    "        for n in n_components]\n",
    "aics = []\n",
    "for model in models:\n",
    "    print(\"Fitting for model:\", model)\n",
    "    t_s = time.time()\n",
    "    fitted_model = model.fit(train_data_pca)\n",
    "    aics.append(fitted_model.aic(train_data_pca) )\n",
    "    dt = time.time() - t_s\n",
    "    print(dt)\n",
    "plt.plot(n_components, aics)"
   ]
  },
  {
   "cell_type": "code",
   "execution_count": 68,
   "metadata": {},
   "outputs": [
    {
     "data": {
      "image/png": "[encoded data removed]",
      "text/plain": [
       "<Figure size 432x288 with 1 Axes>"
      ]
     },
     "metadata": {
      "needs_background": "light"
     },
     "output_type": "display_data"
    }
   ],
   "source": [
    "plt.title(\"Choosing # of components GMM using AIC\")\n",
    "plt.plot(n_components, aics)\n",
    "plt.show()"
   ]
  },
  {
   "cell_type": "code",
   "execution_count": null,
   "metadata": {},
   "outputs": [],
   "source": []
  },
  {
   "cell_type": "code",
   "execution_count": 71,
   "metadata": {},
   "outputs": [
    {
     "name": "stdout",
     "output_type": "stream",
     "text": [
      "Train: (60000, 44) Test: (10000, 44) Diag_type: full Num_comp 40\n",
      "Train Acc: 0.8475333333333334\n",
      "Test Acc: 0.8517\n"
     ]
    }
   ],
   "source": [
    "n_comp = 40\n",
    "cov_type = 'full'\n",
    "print(\"Train:\", train_data_pca.shape, \"Test:\", test_data_pca.shape, \"Diag_type:\", cov_type, \"Num_comp\", n_comp)\n",
    "gmm = mixture.GaussianMixture(n_components=n_comp, covariance_type=cov_type)\n",
    "gmm.fit(train_data_pca)\n",
    "\n",
    "\n",
    "train_pred = gmm.predict(train_data_pca)\n",
    "train_final_pred, label_dict = assign_majority(train_pred, train_label)\n",
    "print(\"Train Acc:\", np.mean(train_final_pred == train_label))\n",
    "\n",
    "test_pred = gmm.predict(test_data_pca)\n",
    "test_final_pred = pred_majority(test_pred, label_dict)\n",
    "print(\"Test Acc:\", np.mean(test_final_pred == test_label))"
   ]
  },
  {
   "cell_type": "code",
   "execution_count": null,
   "metadata": {},
   "outputs": [],
   "source": []
  },
  {
   "cell_type": "code",
   "execution_count": null,
   "metadata": {},
   "outputs": [],
   "source": []
  },
  {
   "cell_type": "code",
   "execution_count": null,
   "metadata": {},
   "outputs": [],
   "source": []
  },
  {
   "cell_type": "code",
   "execution_count": 93,
   "metadata": {},
   "outputs": [
    {
     "data": {
      "text/plain": [
       "0.2676"
      ]
     },
     "execution_count": 93,
     "metadata": {},
     "output_type": "execute_result"
    }
   ],
   "source": [
    "from scipy.optimize import linear_sum_assignment\n",
    "def bipartite_match(pred, gt, n_classes=None, presence=None):\n",
    "    \"\"\"Does maximum biprartite matching between `pred` and `gt`.\"\"\"\n",
    "\n",
    "    if n_classes is not None:\n",
    "        n_gt_labels, n_pred_labels = n_classes, n_classes\n",
    "    else:\n",
    "        n_gt_labels = np.unique(gt).shape[0]\n",
    "        n_pred_labels = np.unique(pred).shape[0]\n",
    "\n",
    "    cost_matrix = np.zeros([n_gt_labels, n_pred_labels], dtype=np.int32)\n",
    "    for label in range(n_gt_labels):\n",
    "        label_idx = (gt == label)\n",
    "        for new_label in range(n_pred_labels):\n",
    "            errors = np.equal(pred[label_idx], new_label).astype(np.float32)\n",
    "            if presence is not None:\n",
    "                errors *= presence[label_idx]\n",
    "\n",
    "            num_errors = errors.sum()\n",
    "            cost_matrix[label, new_label] = -num_errors\n",
    "\n",
    "    row_idx, col_idx = linear_sum_assignment(cost_matrix)\n",
    "    num_correct = -cost_matrix[row_idx, col_idx].sum()\n",
    "    acc = float(num_correct) / gt.shape[0]\n",
    "    return acc\n",
    "\n",
    "bipartite_match(train_pred, train_label)"
   ]
  },
  {
   "cell_type": "code",
   "execution_count": null,
   "metadata": {},
   "outputs": [],
   "source": []
  },
  {
   "cell_type": "code",
   "execution_count": null,
   "metadata": {},
   "outputs": [],
   "source": []
  },
  {
   "cell_type": "code",
   "execution_count": 94,
   "metadata": {},
   "outputs": [],
   "source": [
    "import os\n",
    "import sys\n",
    "sys.path.append(os.getcwd())\n",
    "\n",
    "from sklearn.cluster import KMeans\n",
    "from sklearn.datasets import load_digits\n",
    "from sklearn.decomposition import PCA\n",
    "from sklearn.preprocessing import scale\n",
    "from lib.kmeans_lib import *\n",
    "from lib.utils import *"
   ]
  },
  {
   "cell_type": "code",
   "execution_count": 97,
   "metadata": {},
   "outputs": [
    {
     "name": "stdout",
     "output_type": "stream",
     "text": [
      "done in 10.972s\n",
      "train acc: 0.513\n",
      "test acc: 0.517\n"
     ]
    }
   ],
   "source": [
    "n_samples = train_data.shape[0]\n",
    "n_digits = 10\n",
    "t0 = time()\n",
    "\n",
    "print(\"done in %0.3fs\" % (time() - t0))\n",
    "assigned_labels, train_final_pred = assign_labels_to_centroids_bipartite(km.labels_, train_label)\n",
    "train_acc = np.sum(train_final_pred == train_label) / n_samples\n",
    "print(\"train acc: %.3f\" % train_acc)\n",
    "\n",
    "predicted_label = km.predict(test_data)\n",
    "test_final_pred = np.zeros_like(predicted_label)\n",
    "for i in range(10):\n",
    "    test_final_pred[predicted_label == i] = assigned_labels[i]\n",
    "\n",
    "# _, test_final_pred = assign_labels_to_centroids(km.predict(test_data), test_label)\n",
    "test_acc = np.sum(test_final_pred == test_label) / len(test_label)\n",
    "print(\"test acc: %.3f\" % test_acc)"
   ]
  },
  {
   "cell_type": "code",
   "execution_count": 99,
   "metadata": {},
   "outputs": [],
   "source": []
  },
  {
   "cell_type": "code",
   "execution_count": 126,
   "metadata": {},
   "outputs": [
    {
     "data": {
      "text/plain": [
       "0.7528166666666667"
      ]
     },
     "execution_count": 126,
     "metadata": {},
     "output_type": "execute_result"
    }
   ],
   "source": [
    "def assign_majority(pred, label):\n",
    "    unique_pred = np.unique(pred)\n",
    "    final_pred = np.zeros(pred.shape)\n",
    "    label_dict = {}\n",
    "\n",
    "    for i in unique_pred:\n",
    "        pred_cases = np.where(pred == i)\n",
    "        case_labels = label[pred_cases[0]]\n",
    "        counts, freq = np.unique(case_labels, return_counts=True)\n",
    "        assigned_label = counts[np.argmax(freq)]\n",
    "        label_dict[i] = assigned_label\n",
    "    for i in unique_pred:\n",
    "        final_pred[pred == i] = label_dict[i]\n",
    "    return final_pred, label_dict\n",
    "km = KMeans(init='k-means++', n_clusters=30, n_init=1).fit(train_data)\n",
    "pred_labesl = km.labels_\n",
    "final_pred, label_dict = assign_majority(pred_labesl, train_label)\n",
    "np.sum(final_pred == train_label)/train_label.shape[0]"
   ]
  },
  {
   "cell_type": "code",
   "execution_count": null,
   "metadata": {},
   "outputs": [],
   "source": []
  },
  {
   "cell_type": "code",
   "execution_count": 7,
   "metadata": {},
   "outputs": [],
   "source": [
    "def prepare_shapenet_dataset():\n",
    "    print(\"************************ Loading shapnet ************************\")\n",
    "    mnist_trainset = datasets.MNIST(root='./data', train=True, download=True, transform=transforms.ToTensor())\n",
    "    mnist_testset = datasets.MNIST(root='./data', train=False, download=True, transform=transforms.ToTensor())\n",
    "\n",
    "    train_data, train_label = get_all_data_mnist(mnist_trainset) # train_data is 60000 x 28 x 28\n",
    "\n",
    "    n_samples = train_data.shape[0]\n",
    "    n_digits = len(np.unique(train_label))\n",
    "\n",
    "    print(\"n_digits: %d\" % n_digits)\n",
    "    print(\"n_samples: %d\" % n_samples)\n",
    "\n",
    "    train_data = train_data.reshape(-1, 784) # flatten, 60000 x 784\n",
    "    train_label = train_label.astype(int)\n",
    "\n",
    "    test_data, test_label = get_all_data_mnist(mnist_testset)\n",
    "    test_data = test_data.reshape(-1, 784)\n",
    "    test_label = test_label.astype(int)\n",
    "    print(\"************************ Finished mnist ************************\")\n",
    "    return train_data, train_label, test_data, test_label\n",
    "\n"
   ]
  },
  {
   "cell_type": "code",
   "execution_count": 1,
   "metadata": {},
   "outputs": [
    {
     "name": "stdout",
     "output_type": "stream",
     "text": [
      "********************** Loading SuperQuad Dataset **********************\n",
      "Dataset Mode:  train\n",
      "Dataset Length:  60000\n",
      "********************** Finished SuperQuad Dataset **********************\n"
     ]
    }
   ],
   "source": [
    "import os\n",
    "import sys\n",
    "import pdb\n",
    "import glob\n",
    "sys.path.append(os.getcwd())\n",
    "\n",
    "from PIL import Image\n",
    "import os.path\n",
    "import torch\n",
    "import numpy as np\n",
    "import torchvision.transforms as transforms\n",
    "import torch.utils.data as data\n",
    "import argparse\n",
    "import time\n",
    "import random\n",
    "# import numpy.ma as ma\n",
    "from lib.utils import *\n",
    "\n",
    "input_size = 128\n",
    "\n",
    "\n",
    "transforms_shapenet = transforms.Compose([transforms.Grayscale(), transforms.Resize(128), transforms.ToTensor()])\n",
    "dataset = ShapenetDataset(\"train\", \"/hdd/zen/data/Reallite/Rendering/chair_cls\", transforms=transforms_shapenet)"
   ]
  },
  {
   "cell_type": "code",
   "execution_count": 4,
   "metadata": {},
   "outputs": [
    {
     "ename": "AttributeError",
     "evalue": "'ShapenetDataset' object has no attribute 'classes'",
     "output_type": "error",
     "traceback": [
      "\u001b[0;31m---------------------------------------------------------------------------\u001b[0m",
      "\u001b[0;31mAttributeError\u001b[0m                            Traceback (most recent call last)",
      "\u001b[0;32m<ipython-input-4-48b693a87496>\u001b[0m in \u001b[0;36m<module>\u001b[0;34m\u001b[0m\n\u001b[0;32m----> 1\u001b[0;31m \u001b[0mdataset\u001b[0m\u001b[0;34m.\u001b[0m\u001b[0mclasses\u001b[0m\u001b[0;34m\u001b[0m\u001b[0;34m\u001b[0m\u001b[0m\n\u001b[0m",
      "\u001b[0;31mAttributeError\u001b[0m: 'ShapenetDataset' object has no attribute 'classes'"
     ]
    }
   ],
   "source": [
    "dataset.classes"
   ]
  },
  {
   "cell_type": "code",
   "execution_count": 2,
   "metadata": {},
   "outputs": [],
   "source": [
    "def get_all_data_shapenet(dataset):\n",
    "    loader = torch.utils.data.DataLoader(dataset, batch_size=1200,  shuffle=True, num_workers=8)\n",
    "    imgs = []\n",
    "    targets = []\n",
    "\n",
    "    for i, (data, target) in enumerate(loader):\n",
    "        imgs.append(data.numpy().squeeze())\n",
    "        targets.append(target.numpy().squeeze())\n",
    "    imgs = np.concatenate(imgs)\n",
    "    targets = np.concatenate(targets)\n",
    "    return imgs.reshape(imgs.shape[0], -1), targets.astype(int)\n",
    "\n",
    "def prepare_shapenet_dataset(shapenet_root):\n",
    "    transforms_shapenet = transforms.Compose([transforms.Grayscale(), transforms.Resize(128), transforms.ToTensor()])\n",
    "    train_dataset = ShapenetDataset(\"train\", shapenet_root, transforms=transforms_shapenet)\n",
    "    test_dataset = ShapenetDataset(\"test\", shapenet_root, transforms=transforms_shapenet)\n",
    "\n",
    "    train_imgs, train_labels = get_all_data_shapenet(train_dataset)\n",
    "    test_imgs, test_labels = get_all_data_shapenet(test_dataset)\n",
    "    return train_imgs, train_labels, test_imgs, test_labels"
   ]
  },
  {
   "cell_type": "code",
   "execution_count": 3,
   "metadata": {},
   "outputs": [
    {
     "name": "stdout",
     "output_type": "stream",
     "text": [
      "********************** Loading SuperQuad Dataset **********************\n",
      "Dataset Mode:  train\n",
      "Dataset Length:  60000\n",
      "********************** Finished SuperQuad Dataset **********************\n",
      "********************** Loading SuperQuad Dataset **********************\n",
      "Dataset Mode:  test\n",
      "Dataset Length:  10000\n",
      "********************** Finished SuperQuad Dataset **********************\n"
     ]
    }
   ],
   "source": [
    "train_data, train_label, test_data, test_label = prepare_shapenet_dataset(\"/hdd/zen/data/Reallite/Rendering/chair_cls1\")"
   ]
  },
  {
   "cell_type": "code",
   "execution_count": 4,
   "metadata": {},
   "outputs": [],
   "source": [
    "from sklearn.decomposition import PCA\n",
    "pca = PCA(0.8, whiten=True)\n",
    "pca = pca.fit(train_data)\n",
    "train_data_pca = pca.transform(train_data)\n",
    "test_data_pca = pca.transform(test_data)"
   ]
  },
  {
   "cell_type": "code",
   "execution_count": 5,
   "metadata": {},
   "outputs": [
    {
     "data": {
      "text/plain": [
       "(60000, 214)"
      ]
     },
     "execution_count": 5,
     "metadata": {},
     "output_type": "execute_result"
    }
   ],
   "source": [
    "train_data_pca.shape"
   ]
  },
  {
   "cell_type": "code",
   "execution_count": null,
   "metadata": {},
   "outputs": [
    {
     "name": "stdout",
     "output_type": "stream",
     "text": [
      "Train: (60000, 214) Test: (10000, 214) Diag_type: full Num_comp 80\n"
     ]
    }
   ],
   "source": [
    "from sklearn import mixture\n",
    "cov_type = 'full'\n",
    "n_comp = 80\n",
    "print(\"Train:\", train_data_pca.shape, \"Test:\", test_data_pca.shape, \"Diag_type:\", cov_type, \"Num_comp\", n_comp)\n",
    "gmm = mixture.GaussianMixture(n_components=n_comp, covariance_type=cov_type)\n",
    "gmm.fit(train_data_pca)\n",
    "\n",
    "train_pred = gmm.predict(train_data_pca)\n",
    "train_final_pred, label_dict = assign_majority(train_pred, train_label)\n",
    "print(\"Train Acc:\", np.mean(train_final_pred == train_label))\n",
    "\n",
    "test_pred = gmm.predict(test_data_pca)\n",
    "test_final_pred = pred_majority(test_pred, label_dict)\n",
    "print(\"Test Acc:\", np.mean(test_final_pred == test_label))"
   ]
  },
  {
   "cell_type": "code",
   "execution_count": null,
   "metadata": {},
   "outputs": [],
   "source": []
  }
 ],
 "metadata": {
  "kernelspec": {
   "display_name": "Python [conda env:actmix] *",
   "language": "python",
   "name": "conda-env-actmix-py"
  },
  "language_info": {
   "codemirror_mode": {
    "name": "ipython",
    "version": 3
   },
   "file_extension": ".py",
   "mimetype": "text/x-python",
   "name": "python",
   "nbconvert_exporter": "python",
   "pygments_lexer": "ipython3",
   "version": "3.6.9"
  }
 },
 "nbformat": 4,
 "nbformat_minor": 2
}
